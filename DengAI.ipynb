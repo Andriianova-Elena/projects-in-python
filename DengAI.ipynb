{
 "cells": [
  {
   "cell_type": "markdown",
   "metadata": {},
   "source": [
    "# Import libraries:"
   ]
  },
  {
   "cell_type": "code",
   "execution_count": 1,
   "metadata": {},
   "outputs": [
    {
     "name": "stderr",
     "output_type": "stream",
     "text": [
      "/home/jupyterlab/conda/envs/python/lib/python3.6/site-packages/tensorflow/python/framework/dtypes.py:519: FutureWarning: Passing (type, 1) or '1type' as a synonym of type is deprecated; in a future version of numpy, it will be understood as (type, (1,)) / '(1,)type'.\n",
      "  _np_qint8 = np.dtype([(\"qint8\", np.int8, 1)])\n",
      "/home/jupyterlab/conda/envs/python/lib/python3.6/site-packages/tensorflow/python/framework/dtypes.py:520: FutureWarning: Passing (type, 1) or '1type' as a synonym of type is deprecated; in a future version of numpy, it will be understood as (type, (1,)) / '(1,)type'.\n",
      "  _np_quint8 = np.dtype([(\"quint8\", np.uint8, 1)])\n",
      "/home/jupyterlab/conda/envs/python/lib/python3.6/site-packages/tensorflow/python/framework/dtypes.py:521: FutureWarning: Passing (type, 1) or '1type' as a synonym of type is deprecated; in a future version of numpy, it will be understood as (type, (1,)) / '(1,)type'.\n",
      "  _np_qint16 = np.dtype([(\"qint16\", np.int16, 1)])\n",
      "/home/jupyterlab/conda/envs/python/lib/python3.6/site-packages/tensorflow/python/framework/dtypes.py:522: FutureWarning: Passing (type, 1) or '1type' as a synonym of type is deprecated; in a future version of numpy, it will be understood as (type, (1,)) / '(1,)type'.\n",
      "  _np_quint16 = np.dtype([(\"quint16\", np.uint16, 1)])\n",
      "/home/jupyterlab/conda/envs/python/lib/python3.6/site-packages/tensorflow/python/framework/dtypes.py:523: FutureWarning: Passing (type, 1) or '1type' as a synonym of type is deprecated; in a future version of numpy, it will be understood as (type, (1,)) / '(1,)type'.\n",
      "  _np_qint32 = np.dtype([(\"qint32\", np.int32, 1)])\n",
      "/home/jupyterlab/conda/envs/python/lib/python3.6/site-packages/tensorflow/python/framework/dtypes.py:528: FutureWarning: Passing (type, 1) or '1type' as a synonym of type is deprecated; in a future version of numpy, it will be understood as (type, (1,)) / '(1,)type'.\n",
      "  np_resource = np.dtype([(\"resource\", np.ubyte, 1)])\n"
     ]
    }
   ],
   "source": [
    "import pandas as pd\n",
    "import numpy as np\n",
    "from sklearn import metrics\n",
    "from sklearn.preprocessing import MinMaxScaler\n",
    "import matplotlib.pyplot as plt\n",
    "import seaborn as sns\n",
    "import tensorflow as tf\n",
    "%matplotlib inline\n",
    "import unittest\n",
    "import seaborn as sns"
   ]
  },
  {
   "cell_type": "markdown",
   "metadata": {},
   "source": [
    "# Import Data:\n"
   ]
  },
  {
   "cell_type": "code",
   "execution_count": 2,
   "metadata": {},
   "outputs": [
    {
     "name": "stdout",
     "output_type": "stream",
     "text": [
      "(1456, 24)\n",
      "(416, 24)\n"
     ]
    },
    {
     "name": "stderr",
     "output_type": "stream",
     "text": [
      "/home/jupyterlab/conda/envs/python/lib/python3.6/site-packages/ipykernel_launcher.py:6: FutureWarning: Treating datetime data as categorical rather than numeric in `.describe` is deprecated and will be removed in a future version of pandas. Specify `datetime_is_numeric=True` to silence this warning and adopt the future behavior now.\n",
      "  \n"
     ]
    },
    {
     "data": {
      "text/html": [
       "<div>\n",
       "<style scoped>\n",
       "    .dataframe tbody tr th:only-of-type {\n",
       "        vertical-align: middle;\n",
       "    }\n",
       "\n",
       "    .dataframe tbody tr th {\n",
       "        vertical-align: top;\n",
       "    }\n",
       "\n",
       "    .dataframe thead th {\n",
       "        text-align: right;\n",
       "    }\n",
       "</style>\n",
       "<table border=\"1\" class=\"dataframe\">\n",
       "  <thead>\n",
       "    <tr style=\"text-align: right;\">\n",
       "      <th></th>\n",
       "      <th>city</th>\n",
       "      <th>year</th>\n",
       "      <th>weekofyear</th>\n",
       "      <th>week_start_date</th>\n",
       "      <th>ndvi_ne</th>\n",
       "      <th>ndvi_nw</th>\n",
       "      <th>ndvi_se</th>\n",
       "      <th>ndvi_sw</th>\n",
       "      <th>precipitation_amt_mm</th>\n",
       "      <th>reanalysis_air_temp_k</th>\n",
       "      <th>...</th>\n",
       "      <th>reanalysis_precip_amt_kg_per_m2</th>\n",
       "      <th>reanalysis_relative_humidity_percent</th>\n",
       "      <th>reanalysis_sat_precip_amt_mm</th>\n",
       "      <th>reanalysis_specific_humidity_g_per_kg</th>\n",
       "      <th>reanalysis_tdtr_k</th>\n",
       "      <th>station_avg_temp_c</th>\n",
       "      <th>station_diur_temp_rng_c</th>\n",
       "      <th>station_max_temp_c</th>\n",
       "      <th>station_min_temp_c</th>\n",
       "      <th>station_precip_mm</th>\n",
       "    </tr>\n",
       "  </thead>\n",
       "  <tbody>\n",
       "    <tr>\n",
       "      <th>count</th>\n",
       "      <td>1456</td>\n",
       "      <td>1456.00</td>\n",
       "      <td>1456.00</td>\n",
       "      <td>1456</td>\n",
       "      <td>1262.00</td>\n",
       "      <td>1404.00</td>\n",
       "      <td>1434.00</td>\n",
       "      <td>1434.00</td>\n",
       "      <td>1443.00</td>\n",
       "      <td>1446.00</td>\n",
       "      <td>...</td>\n",
       "      <td>1446.00</td>\n",
       "      <td>1446.00</td>\n",
       "      <td>1443.00</td>\n",
       "      <td>1446.00</td>\n",
       "      <td>1446.00</td>\n",
       "      <td>1413.00</td>\n",
       "      <td>1413.00</td>\n",
       "      <td>1436.00</td>\n",
       "      <td>1442.00</td>\n",
       "      <td>1434.00</td>\n",
       "    </tr>\n",
       "    <tr>\n",
       "      <th>unique</th>\n",
       "      <td>2</td>\n",
       "      <td>NaN</td>\n",
       "      <td>NaN</td>\n",
       "      <td>1049</td>\n",
       "      <td>NaN</td>\n",
       "      <td>NaN</td>\n",
       "      <td>NaN</td>\n",
       "      <td>NaN</td>\n",
       "      <td>NaN</td>\n",
       "      <td>NaN</td>\n",
       "      <td>...</td>\n",
       "      <td>NaN</td>\n",
       "      <td>NaN</td>\n",
       "      <td>NaN</td>\n",
       "      <td>NaN</td>\n",
       "      <td>NaN</td>\n",
       "      <td>NaN</td>\n",
       "      <td>NaN</td>\n",
       "      <td>NaN</td>\n",
       "      <td>NaN</td>\n",
       "      <td>NaN</td>\n",
       "    </tr>\n",
       "    <tr>\n",
       "      <th>top</th>\n",
       "      <td>sj</td>\n",
       "      <td>NaN</td>\n",
       "      <td>NaN</td>\n",
       "      <td>2005-01-29 00:00:00</td>\n",
       "      <td>NaN</td>\n",
       "      <td>NaN</td>\n",
       "      <td>NaN</td>\n",
       "      <td>NaN</td>\n",
       "      <td>NaN</td>\n",
       "      <td>NaN</td>\n",
       "      <td>...</td>\n",
       "      <td>NaN</td>\n",
       "      <td>NaN</td>\n",
       "      <td>NaN</td>\n",
       "      <td>NaN</td>\n",
       "      <td>NaN</td>\n",
       "      <td>NaN</td>\n",
       "      <td>NaN</td>\n",
       "      <td>NaN</td>\n",
       "      <td>NaN</td>\n",
       "      <td>NaN</td>\n",
       "    </tr>\n",
       "    <tr>\n",
       "      <th>freq</th>\n",
       "      <td>936</td>\n",
       "      <td>NaN</td>\n",
       "      <td>NaN</td>\n",
       "      <td>2</td>\n",
       "      <td>NaN</td>\n",
       "      <td>NaN</td>\n",
       "      <td>NaN</td>\n",
       "      <td>NaN</td>\n",
       "      <td>NaN</td>\n",
       "      <td>NaN</td>\n",
       "      <td>...</td>\n",
       "      <td>NaN</td>\n",
       "      <td>NaN</td>\n",
       "      <td>NaN</td>\n",
       "      <td>NaN</td>\n",
       "      <td>NaN</td>\n",
       "      <td>NaN</td>\n",
       "      <td>NaN</td>\n",
       "      <td>NaN</td>\n",
       "      <td>NaN</td>\n",
       "      <td>NaN</td>\n",
       "    </tr>\n",
       "    <tr>\n",
       "      <th>first</th>\n",
       "      <td>NaN</td>\n",
       "      <td>NaN</td>\n",
       "      <td>NaN</td>\n",
       "      <td>1990-04-30 00:00:00</td>\n",
       "      <td>NaN</td>\n",
       "      <td>NaN</td>\n",
       "      <td>NaN</td>\n",
       "      <td>NaN</td>\n",
       "      <td>NaN</td>\n",
       "      <td>NaN</td>\n",
       "      <td>...</td>\n",
       "      <td>NaN</td>\n",
       "      <td>NaN</td>\n",
       "      <td>NaN</td>\n",
       "      <td>NaN</td>\n",
       "      <td>NaN</td>\n",
       "      <td>NaN</td>\n",
       "      <td>NaN</td>\n",
       "      <td>NaN</td>\n",
       "      <td>NaN</td>\n",
       "      <td>NaN</td>\n",
       "    </tr>\n",
       "    <tr>\n",
       "      <th>last</th>\n",
       "      <td>NaN</td>\n",
       "      <td>NaN</td>\n",
       "      <td>NaN</td>\n",
       "      <td>2010-06-25 00:00:00</td>\n",
       "      <td>NaN</td>\n",
       "      <td>NaN</td>\n",
       "      <td>NaN</td>\n",
       "      <td>NaN</td>\n",
       "      <td>NaN</td>\n",
       "      <td>NaN</td>\n",
       "      <td>...</td>\n",
       "      <td>NaN</td>\n",
       "      <td>NaN</td>\n",
       "      <td>NaN</td>\n",
       "      <td>NaN</td>\n",
       "      <td>NaN</td>\n",
       "      <td>NaN</td>\n",
       "      <td>NaN</td>\n",
       "      <td>NaN</td>\n",
       "      <td>NaN</td>\n",
       "      <td>NaN</td>\n",
       "    </tr>\n",
       "    <tr>\n",
       "      <th>mean</th>\n",
       "      <td>NaN</td>\n",
       "      <td>2001.03</td>\n",
       "      <td>26.50</td>\n",
       "      <td>NaN</td>\n",
       "      <td>0.14</td>\n",
       "      <td>0.13</td>\n",
       "      <td>0.20</td>\n",
       "      <td>0.20</td>\n",
       "      <td>45.76</td>\n",
       "      <td>298.70</td>\n",
       "      <td>...</td>\n",
       "      <td>40.15</td>\n",
       "      <td>82.16</td>\n",
       "      <td>45.76</td>\n",
       "      <td>16.75</td>\n",
       "      <td>4.90</td>\n",
       "      <td>27.19</td>\n",
       "      <td>8.06</td>\n",
       "      <td>32.45</td>\n",
       "      <td>22.10</td>\n",
       "      <td>39.33</td>\n",
       "    </tr>\n",
       "    <tr>\n",
       "      <th>std</th>\n",
       "      <td>NaN</td>\n",
       "      <td>5.41</td>\n",
       "      <td>15.02</td>\n",
       "      <td>NaN</td>\n",
       "      <td>0.14</td>\n",
       "      <td>0.12</td>\n",
       "      <td>0.07</td>\n",
       "      <td>0.08</td>\n",
       "      <td>43.72</td>\n",
       "      <td>1.36</td>\n",
       "      <td>...</td>\n",
       "      <td>43.43</td>\n",
       "      <td>7.15</td>\n",
       "      <td>43.72</td>\n",
       "      <td>1.54</td>\n",
       "      <td>3.55</td>\n",
       "      <td>1.29</td>\n",
       "      <td>2.13</td>\n",
       "      <td>1.96</td>\n",
       "      <td>1.57</td>\n",
       "      <td>47.46</td>\n",
       "    </tr>\n",
       "    <tr>\n",
       "      <th>min</th>\n",
       "      <td>NaN</td>\n",
       "      <td>1990.00</td>\n",
       "      <td>1.00</td>\n",
       "      <td>NaN</td>\n",
       "      <td>-0.41</td>\n",
       "      <td>-0.46</td>\n",
       "      <td>-0.02</td>\n",
       "      <td>-0.06</td>\n",
       "      <td>0.00</td>\n",
       "      <td>294.64</td>\n",
       "      <td>...</td>\n",
       "      <td>0.00</td>\n",
       "      <td>57.79</td>\n",
       "      <td>0.00</td>\n",
       "      <td>11.72</td>\n",
       "      <td>1.36</td>\n",
       "      <td>21.40</td>\n",
       "      <td>4.53</td>\n",
       "      <td>26.70</td>\n",
       "      <td>14.70</td>\n",
       "      <td>0.00</td>\n",
       "    </tr>\n",
       "    <tr>\n",
       "      <th>25%</th>\n",
       "      <td>NaN</td>\n",
       "      <td>1997.00</td>\n",
       "      <td>13.75</td>\n",
       "      <td>NaN</td>\n",
       "      <td>0.04</td>\n",
       "      <td>0.05</td>\n",
       "      <td>0.16</td>\n",
       "      <td>0.14</td>\n",
       "      <td>9.80</td>\n",
       "      <td>297.66</td>\n",
       "      <td>...</td>\n",
       "      <td>13.05</td>\n",
       "      <td>77.18</td>\n",
       "      <td>9.80</td>\n",
       "      <td>15.56</td>\n",
       "      <td>2.33</td>\n",
       "      <td>26.30</td>\n",
       "      <td>6.51</td>\n",
       "      <td>31.10</td>\n",
       "      <td>21.10</td>\n",
       "      <td>8.70</td>\n",
       "    </tr>\n",
       "    <tr>\n",
       "      <th>50%</th>\n",
       "      <td>NaN</td>\n",
       "      <td>2002.00</td>\n",
       "      <td>26.50</td>\n",
       "      <td>NaN</td>\n",
       "      <td>0.13</td>\n",
       "      <td>0.12</td>\n",
       "      <td>0.20</td>\n",
       "      <td>0.19</td>\n",
       "      <td>38.34</td>\n",
       "      <td>298.65</td>\n",
       "      <td>...</td>\n",
       "      <td>27.24</td>\n",
       "      <td>80.30</td>\n",
       "      <td>38.34</td>\n",
       "      <td>17.09</td>\n",
       "      <td>2.86</td>\n",
       "      <td>27.41</td>\n",
       "      <td>7.30</td>\n",
       "      <td>32.80</td>\n",
       "      <td>22.20</td>\n",
       "      <td>23.85</td>\n",
       "    </tr>\n",
       "    <tr>\n",
       "      <th>75%</th>\n",
       "      <td>NaN</td>\n",
       "      <td>2005.00</td>\n",
       "      <td>39.25</td>\n",
       "      <td>NaN</td>\n",
       "      <td>0.25</td>\n",
       "      <td>0.22</td>\n",
       "      <td>0.25</td>\n",
       "      <td>0.25</td>\n",
       "      <td>70.23</td>\n",
       "      <td>299.83</td>\n",
       "      <td>...</td>\n",
       "      <td>52.20</td>\n",
       "      <td>86.36</td>\n",
       "      <td>70.23</td>\n",
       "      <td>17.98</td>\n",
       "      <td>7.62</td>\n",
       "      <td>28.16</td>\n",
       "      <td>9.57</td>\n",
       "      <td>33.90</td>\n",
       "      <td>23.30</td>\n",
       "      <td>53.90</td>\n",
       "    </tr>\n",
       "    <tr>\n",
       "      <th>max</th>\n",
       "      <td>NaN</td>\n",
       "      <td>2010.00</td>\n",
       "      <td>53.00</td>\n",
       "      <td>NaN</td>\n",
       "      <td>0.51</td>\n",
       "      <td>0.45</td>\n",
       "      <td>0.54</td>\n",
       "      <td>0.55</td>\n",
       "      <td>390.60</td>\n",
       "      <td>302.20</td>\n",
       "      <td>...</td>\n",
       "      <td>570.50</td>\n",
       "      <td>98.61</td>\n",
       "      <td>390.60</td>\n",
       "      <td>20.46</td>\n",
       "      <td>16.03</td>\n",
       "      <td>30.80</td>\n",
       "      <td>15.80</td>\n",
       "      <td>42.20</td>\n",
       "      <td>25.60</td>\n",
       "      <td>543.30</td>\n",
       "    </tr>\n",
       "  </tbody>\n",
       "</table>\n",
       "<p>13 rows × 24 columns</p>\n",
       "</div>"
      ],
      "text/plain": [
       "        city     year  weekofyear      week_start_date  ndvi_ne  ndvi_nw  \\\n",
       "count   1456  1456.00     1456.00                 1456  1262.00  1404.00   \n",
       "unique     2      NaN         NaN                 1049      NaN      NaN   \n",
       "top       sj      NaN         NaN  2005-01-29 00:00:00      NaN      NaN   \n",
       "freq     936      NaN         NaN                    2      NaN      NaN   \n",
       "first    NaN      NaN         NaN  1990-04-30 00:00:00      NaN      NaN   \n",
       "last     NaN      NaN         NaN  2010-06-25 00:00:00      NaN      NaN   \n",
       "mean     NaN  2001.03       26.50                  NaN     0.14     0.13   \n",
       "std      NaN     5.41       15.02                  NaN     0.14     0.12   \n",
       "min      NaN  1990.00        1.00                  NaN    -0.41    -0.46   \n",
       "25%      NaN  1997.00       13.75                  NaN     0.04     0.05   \n",
       "50%      NaN  2002.00       26.50                  NaN     0.13     0.12   \n",
       "75%      NaN  2005.00       39.25                  NaN     0.25     0.22   \n",
       "max      NaN  2010.00       53.00                  NaN     0.51     0.45   \n",
       "\n",
       "        ndvi_se  ndvi_sw  precipitation_amt_mm  reanalysis_air_temp_k  ...  \\\n",
       "count   1434.00  1434.00               1443.00                1446.00  ...   \n",
       "unique      NaN      NaN                   NaN                    NaN  ...   \n",
       "top         NaN      NaN                   NaN                    NaN  ...   \n",
       "freq        NaN      NaN                   NaN                    NaN  ...   \n",
       "first       NaN      NaN                   NaN                    NaN  ...   \n",
       "last        NaN      NaN                   NaN                    NaN  ...   \n",
       "mean       0.20     0.20                 45.76                 298.70  ...   \n",
       "std        0.07     0.08                 43.72                   1.36  ...   \n",
       "min       -0.02    -0.06                  0.00                 294.64  ...   \n",
       "25%        0.16     0.14                  9.80                 297.66  ...   \n",
       "50%        0.20     0.19                 38.34                 298.65  ...   \n",
       "75%        0.25     0.25                 70.23                 299.83  ...   \n",
       "max        0.54     0.55                390.60                 302.20  ...   \n",
       "\n",
       "        reanalysis_precip_amt_kg_per_m2  reanalysis_relative_humidity_percent  \\\n",
       "count                           1446.00                               1446.00   \n",
       "unique                              NaN                                   NaN   \n",
       "top                                 NaN                                   NaN   \n",
       "freq                                NaN                                   NaN   \n",
       "first                               NaN                                   NaN   \n",
       "last                                NaN                                   NaN   \n",
       "mean                              40.15                                 82.16   \n",
       "std                               43.43                                  7.15   \n",
       "min                                0.00                                 57.79   \n",
       "25%                               13.05                                 77.18   \n",
       "50%                               27.24                                 80.30   \n",
       "75%                               52.20                                 86.36   \n",
       "max                              570.50                                 98.61   \n",
       "\n",
       "        reanalysis_sat_precip_amt_mm  reanalysis_specific_humidity_g_per_kg  \\\n",
       "count                        1443.00                                1446.00   \n",
       "unique                           NaN                                    NaN   \n",
       "top                              NaN                                    NaN   \n",
       "freq                             NaN                                    NaN   \n",
       "first                            NaN                                    NaN   \n",
       "last                             NaN                                    NaN   \n",
       "mean                           45.76                                  16.75   \n",
       "std                            43.72                                   1.54   \n",
       "min                             0.00                                  11.72   \n",
       "25%                             9.80                                  15.56   \n",
       "50%                            38.34                                  17.09   \n",
       "75%                            70.23                                  17.98   \n",
       "max                           390.60                                  20.46   \n",
       "\n",
       "        reanalysis_tdtr_k  station_avg_temp_c  station_diur_temp_rng_c  \\\n",
       "count             1446.00             1413.00                  1413.00   \n",
       "unique                NaN                 NaN                      NaN   \n",
       "top                   NaN                 NaN                      NaN   \n",
       "freq                  NaN                 NaN                      NaN   \n",
       "first                 NaN                 NaN                      NaN   \n",
       "last                  NaN                 NaN                      NaN   \n",
       "mean                 4.90               27.19                     8.06   \n",
       "std                  3.55                1.29                     2.13   \n",
       "min                  1.36               21.40                     4.53   \n",
       "25%                  2.33               26.30                     6.51   \n",
       "50%                  2.86               27.41                     7.30   \n",
       "75%                  7.62               28.16                     9.57   \n",
       "max                 16.03               30.80                    15.80   \n",
       "\n",
       "        station_max_temp_c  station_min_temp_c  station_precip_mm  \n",
       "count              1436.00             1442.00            1434.00  \n",
       "unique                 NaN                 NaN                NaN  \n",
       "top                    NaN                 NaN                NaN  \n",
       "freq                   NaN                 NaN                NaN  \n",
       "first                  NaN                 NaN                NaN  \n",
       "last                   NaN                 NaN                NaN  \n",
       "mean                 32.45               22.10              39.33  \n",
       "std                   1.96                1.57              47.46  \n",
       "min                  26.70               14.70               0.00  \n",
       "25%                  31.10               21.10               8.70  \n",
       "50%                  32.80               22.20              23.85  \n",
       "75%                  33.90               23.30              53.90  \n",
       "max                  42.20               25.60             543.30  \n",
       "\n",
       "[13 rows x 24 columns]"
      ]
     },
     "execution_count": 2,
     "metadata": {},
     "output_type": "execute_result"
    }
   ],
   "source": [
    "pd.set_option(\"display.precision\", 2)\n",
    "data = pd.read_csv(\"DengAI_data/dengue_features_train.csv\", parse_dates=['week_start_date'])\n",
    "data_test = pd.read_csv(\"DengAI_data/dengue_features_test.csv\", parse_dates=['week_start_date'])\n",
    "print(data.shape)\n",
    "print(data_test.shape)\n",
    "data.describe(include='all')"
   ]
  },
  {
   "cell_type": "code",
   "execution_count": 3,
   "metadata": {},
   "outputs": [
    {
     "name": "stdout",
     "output_type": "stream",
     "text": [
      "(1456, 4)\n"
     ]
    },
    {
     "data": {
      "text/html": [
       "<div>\n",
       "<style scoped>\n",
       "    .dataframe tbody tr th:only-of-type {\n",
       "        vertical-align: middle;\n",
       "    }\n",
       "\n",
       "    .dataframe tbody tr th {\n",
       "        vertical-align: top;\n",
       "    }\n",
       "\n",
       "    .dataframe thead th {\n",
       "        text-align: right;\n",
       "    }\n",
       "</style>\n",
       "<table border=\"1\" class=\"dataframe\">\n",
       "  <thead>\n",
       "    <tr style=\"text-align: right;\">\n",
       "      <th></th>\n",
       "      <th>city</th>\n",
       "      <th>year</th>\n",
       "      <th>weekofyear</th>\n",
       "      <th>total_cases</th>\n",
       "      <th>date</th>\n",
       "    </tr>\n",
       "  </thead>\n",
       "  <tbody>\n",
       "    <tr>\n",
       "      <th>0</th>\n",
       "      <td>sj</td>\n",
       "      <td>1990</td>\n",
       "      <td>18</td>\n",
       "      <td>4</td>\n",
       "      <td>1990-05-07</td>\n",
       "    </tr>\n",
       "    <tr>\n",
       "      <th>1</th>\n",
       "      <td>sj</td>\n",
       "      <td>1990</td>\n",
       "      <td>19</td>\n",
       "      <td>5</td>\n",
       "      <td>1990-05-14</td>\n",
       "    </tr>\n",
       "    <tr>\n",
       "      <th>2</th>\n",
       "      <td>sj</td>\n",
       "      <td>1990</td>\n",
       "      <td>20</td>\n",
       "      <td>4</td>\n",
       "      <td>1990-05-21</td>\n",
       "    </tr>\n",
       "  </tbody>\n",
       "</table>\n",
       "</div>"
      ],
      "text/plain": [
       "  city  year  weekofyear  total_cases       date\n",
       "0   sj  1990          18            4 1990-05-07\n",
       "1   sj  1990          19            5 1990-05-14\n",
       "2   sj  1990          20            4 1990-05-21"
      ]
     },
     "execution_count": 3,
     "metadata": {},
     "output_type": "execute_result"
    }
   ],
   "source": [
    "labels =pd.read_csv(\"DengAI_data/dengue_labels_train.csv\")\n",
    "print(labels.shape)\n",
    "labels[\"date\"] = pd.to_datetime(labels.year.astype(str), format='%Y') + pd.to_timedelta(\n",
    "labels.weekofyear.mul(7).astype(str) + ' days')\n",
    "labels.head(3)"
   ]
  },
  {
   "cell_type": "markdown",
   "metadata": {},
   "source": [
    "Split dataset into cities"
   ]
  },
  {
   "cell_type": "code",
   "execution_count": 4,
   "metadata": {},
   "outputs": [
    {
     "name": "stdout",
     "output_type": "stream",
     "text": [
      "(520, 5)\n",
      "(936, 5)\n"
     ]
    }
   ],
   "source": [
    "labels.index =labels[\"date\"] \n",
    "labelsSJ=labels.query('city == \"sj\"')\n",
    "labelsIQ=labels.query('city == \"iq\"') \n",
    "print(labelsIQ.shape)\n",
    "print(labelsSJ.shape)"
   ]
  },
  {
   "cell_type": "markdown",
   "metadata": {},
   "source": [
    "# Exploratory Data Analysis\n",
    "Plot historical outbreak data to check the correlation between cities"
   ]
  },
  {
   "cell_type": "code",
   "execution_count": 5,
   "metadata": {},
   "outputs": [
    {
     "data": {
      "text/plain": [
       "<matplotlib.legend.Legend at 0x7f68283a4b00>"
      ]
     },
     "execution_count": 5,
     "metadata": {},
     "output_type": "execute_result"
    },
    {
     "data": {
      "image/png": "[encoded data removed]",
      "text/plain": [
       "<Figure size 432x288 with 1 Axes>"
      ]
     },
     "metadata": {
      "needs_background": "light"
     },
     "output_type": "display_data"
    }
   ],
   "source": [
    "plt.plot( 'date', \"total_cases\", data=labelsSJ,  marker='.', markerfacecolor='blue', markersize=5,color='skyblue', linewidth=0, label='San Juan')\n",
    "plt.plot( 'date', \"total_cases\", data=labelsIQ, marker='.', markerfacecolor='red', markersize=5, color='red', linewidth=0)\n",
    "plt.title('Total cases')\n",
    "plt.legend(['San Juan','Iquitos'],loc='upper right')"
   ]
  },
  {
   "cell_type": "markdown",
   "metadata": {},
   "source": [
    "1) There is no or little correlation between cities, therefore separate models may be required for each city.\n",
    "\n",
    "2) No apparent trends or seasonality\n",
    "\n"
   ]
  },
  {
   "cell_type": "code",
   "execution_count": 6,
   "metadata": {},
   "outputs": [
    {
     "data": {
      "text/plain": [
       "Text(0.5, 1.0, 'Iquitos')"
      ]
     },
     "execution_count": 6,
     "metadata": {},
     "output_type": "execute_result"
    },
    {
     "data": {
      "image/png": "[encoded data removed]",
      "text/plain": [
       "<Figure size 432x288 with 1 Axes>"
      ]
     },
     "metadata": {
      "needs_background": "light"
     },
     "output_type": "display_data"
    },
    {
     "data": {
      "image/png": "[encoded data removed]",
      "text/plain": [
       "<Figure size 432x288 with 1 Axes>"
      ]
     },
     "metadata": {
      "needs_background": "light"
     },
     "output_type": "display_data"
    }
   ],
   "source": [
    "labelsSJ.plot(y=[\"total_cases\"])\n",
    "plt.legend(['total_cases'], loc='upper left')\n",
    "plt.title('San Juan')\n",
    "labelsIQ.plot(y=[\"total_cases\"])\n",
    "plt.legend([\"total_cases\"], loc='upper left')\n",
    "plt.title('Iquitos')"
   ]
  },
  {
   "cell_type": "markdown",
   "metadata": {},
   "source": [
    "The distribution of cases for each city:"
   ]
  },
  {
   "cell_type": "code",
   "execution_count": 7,
   "metadata": {},
   "outputs": [
    {
     "data": {
      "text/plain": [
       "Text(0.5, 1.0, 'San Juan')"
      ]
     },
     "execution_count": 7,
     "metadata": {},
     "output_type": "execute_result"
    },
    {
     "data": {
      "image/png": "[encoded data removed]",
      "text/plain": [
       "<Figure size 432x288 with 1 Axes>"
      ]
     },
     "metadata": {
      "needs_background": "light"
     },
     "output_type": "display_data"
    }
   ],
   "source": [
    "labelsSJ[\"total_cases\"].plot.hist(bins=20, alpha=1)\n",
    "plt.title('San Juan')"
   ]
  },
  {
   "cell_type": "code",
   "execution_count": 8,
   "metadata": {},
   "outputs": [
    {
     "data": {
      "text/plain": [
       "Text(0.5, 1.0, 'Iquitos')"
      ]
     },
     "execution_count": 8,
     "metadata": {},
     "output_type": "execute_result"
    },
    {
     "data": {
      "image/png": "[encoded data removed]",
      "text/plain": [
       "<Figure size 432x288 with 1 Axes>"
      ]
     },
     "metadata": {
      "needs_background": "light"
     },
     "output_type": "display_data"
    }
   ],
   "source": [
    "labelsIQ[\"total_cases\"].plot.hist(bins=20, alpha=1)\n",
    "plt.title('Iquitos')"
   ]
  },
  {
   "cell_type": "markdown",
   "metadata": {},
   "source": [
    "It can be concluded that the average number of cases for a week is low, as only sometimes we have an outbreak when a total number of cases jumps to some higher value.\n",
    "\n",
    "The next step is to check for strongly correlated values:"
   ]
  },
  {
   "cell_type": "code",
   "execution_count": 9,
   "metadata": {},
   "outputs": [
    {
     "data": {
      "image/png": "[encoded data removed]",
      "text/plain": [
       "<Figure size 432x288 with 1 Axes>"
      ]
     },
     "metadata": {
      "needs_background": "light"
     },
     "output_type": "display_data"
    }
   ],
   "source": [
    "plt.scatter(data.weekofyear, labels.total_cases,  color='blue')\n",
    "plt.ylabel('total_cases')\n",
    "plt.xlabel('weekofyear')\n",
    "plt.show()\n"
   ]
  },
  {
   "cell_type": "code",
   "execution_count": 10,
   "metadata": {},
   "outputs": [
    {
     "data": {
      "image/png": "[encoded data removed]",
      "text/plain": [
       "<Figure size 432x288 with 1 Axes>"
      ]
     },
     "metadata": {
      "needs_background": "light"
     },
     "output_type": "display_data"
    }
   ],
   "source": [
    "plt.scatter(data.precipitation_amt_mm, labels.total_cases,  color='blue')\n",
    "plt.ylabel('total_cases')\n",
    "plt.xlabel('precipitation_amt_mm')\n",
    "plt.show()"
   ]
  },
  {
   "cell_type": "code",
   "execution_count": 11,
   "metadata": {},
   "outputs": [
    {
     "data": {
      "image/png": "[encoded data removed]",
      "text/plain": [
       "<Figure size 432x288 with 1 Axes>"
      ]
     },
     "metadata": {
      "needs_background": "light"
     },
     "output_type": "display_data"
    }
   ],
   "source": [
    "plt.scatter(data.reanalysis_air_temp_k, labels.total_cases,  color='blue')\n",
    "plt.ylabel('total_cases')\n",
    "plt.xlabel('reanalysis_air_temp_k')\n",
    "plt.show()"
   ]
  },
  {
   "cell_type": "code",
   "execution_count": 12,
   "metadata": {},
   "outputs": [
    {
     "data": {
      "image/png": "[encoded data removed]",
      "text/plain": [
       "<Figure size 432x288 with 1 Axes>"
      ]
     },
     "metadata": {
      "needs_background": "light"
     },
     "output_type": "display_data"
    }
   ],
   "source": [
    "plt.scatter(data.reanalysis_dew_point_temp_k, labels.total_cases,  color='blue')\n",
    "plt.ylabel('total_cases')\n",
    "plt.xlabel('reanalysis_dew_point_temp_k')\n",
    "plt.show()"
   ]
  },
  {
   "cell_type": "code",
   "execution_count": 13,
   "metadata": {},
   "outputs": [
    {
     "data": {
      "image/png": "[encoded data removed]",
      "text/plain": [
       "<Figure size 432x288 with 1 Axes>"
      ]
     },
     "metadata": {
      "needs_background": "light"
     },
     "output_type": "display_data"
    }
   ],
   "source": [
    "plt.scatter(data.reanalysis_max_air_temp_k, labels.total_cases,  color='blue')\n",
    "plt.ylabel('total_cases')\n",
    "plt.xlabel('reanalysis_max_air_temp_k')\n",
    "plt.show()"
   ]
  },
  {
   "cell_type": "code",
   "execution_count": 14,
   "metadata": {},
   "outputs": [
    {
     "data": {
      "image/png": "[encoded data removed]",
      "text/plain": [
       "<Figure size 432x288 with 1 Axes>"
      ]
     },
     "metadata": {
      "needs_background": "light"
     },
     "output_type": "display_data"
    }
   ],
   "source": [
    "plt.scatter(data.reanalysis_min_air_temp_k, labels.total_cases,  color='blue')\n",
    "plt.ylabel('total_cases')\n",
    "plt.xlabel('reanalysis_min_air_temp_k')\n",
    "plt.show()"
   ]
  },
  {
   "cell_type": "code",
   "execution_count": 15,
   "metadata": {},
   "outputs": [
    {
     "data": {
      "image/png": "[encoded data removed]",
      "text/plain": [
       "<Figure size 432x288 with 1 Axes>"
      ]
     },
     "metadata": {
      "needs_background": "light"
     },
     "output_type": "display_data"
    }
   ],
   "source": [
    "plt.scatter(data.reanalysis_relative_humidity_percent, labels.total_cases,  color='blue')\n",
    "plt.ylabel('total_cases')\n",
    "plt.xlabel('reanalysis_relative_humidity_percent')\n",
    "plt.show()"
   ]
  },
  {
   "cell_type": "code",
   "execution_count": 16,
   "metadata": {},
   "outputs": [
    {
     "data": {
      "image/png": "[encoded data removed]",
      "text/plain": [
       "<Figure size 432x288 with 1 Axes>"
      ]
     },
     "metadata": {
      "needs_background": "light"
     },
     "output_type": "display_data"
    }
   ],
   "source": [
    "plt.scatter(data.reanalysis_sat_precip_amt_mm, labels.total_cases,  color='blue')\n",
    "plt.ylabel('total_cases')\n",
    "plt.xlabel('reanalysis_sat_precip_amt_mm')\n",
    "plt.show()"
   ]
  },
  {
   "cell_type": "code",
   "execution_count": 17,
   "metadata": {},
   "outputs": [
    {
     "data": {
      "image/png": "[encoded data removed]",
      "text/plain": [
       "<Figure size 432x288 with 1 Axes>"
      ]
     },
     "metadata": {
      "needs_background": "light"
     },
     "output_type": "display_data"
    }
   ],
   "source": [
    "plt.scatter(data.reanalysis_tdtr_k, labels.total_cases,  color='blue')\n",
    "plt.ylabel('total_cases')\n",
    "plt.xlabel('reanalysis_tdtr_k')\n",
    "plt.show()"
   ]
  },
  {
   "cell_type": "code",
   "execution_count": 18,
   "metadata": {},
   "outputs": [
    {
     "data": {
      "image/png": "[encoded data removed]",
      "text/plain": [
       "<Figure size 432x288 with 1 Axes>"
      ]
     },
     "metadata": {
      "needs_background": "light"
     },
     "output_type": "display_data"
    }
   ],
   "source": [
    "plt.scatter(data.station_avg_temp_c, labels.total_cases,  color='blue')\n",
    "plt.show()"
   ]
  },
  {
   "cell_type": "code",
   "execution_count": 19,
   "metadata": {},
   "outputs": [
    {
     "data": {
      "image/png": "[encoded data removed]",
      "text/plain": [
       "<Figure size 432x288 with 1 Axes>"
      ]
     },
     "metadata": {
      "needs_background": "light"
     },
     "output_type": "display_data"
    }
   ],
   "source": [
    "plt.scatter(data.station_diur_temp_rng_c, labels.total_cases,  color='blue')\n",
    "plt.show()"
   ]
  },
  {
   "cell_type": "code",
   "execution_count": 20,
   "metadata": {},
   "outputs": [
    {
     "data": {
      "image/png": "[encoded data removed]",
      "text/plain": [
       "<Figure size 432x288 with 1 Axes>"
      ]
     },
     "metadata": {
      "needs_background": "light"
     },
     "output_type": "display_data"
    }
   ],
   "source": [
    "plt.scatter(data.station_precip_mm, labels.total_cases,  color='blue')\n",
    "plt.show()"
   ]
  },
  {
   "cell_type": "markdown",
   "metadata": {},
   "source": [
    "Plot correlation matrix to see if there is a correlation between variables"
   ]
  },
  {
   "cell_type": "code",
   "execution_count": 21,
   "metadata": {},
   "outputs": [
    {
     "data": {
      "image/png": "[encoded data removed]",
      "text/plain": [
       "<Figure size 1368x1080 with 2 Axes>"
      ]
     },
     "metadata": {
      "needs_background": "light"
     },
     "output_type": "display_data"
    }
   ],
   "source": [
    "column_names = data.columns\n",
    "fig = plt.figure(figsize=(19, 15))\n",
    "ax = fig.add_subplot(111)\n",
    "cax = ax.matshow(data.corr())\n",
    "fig.colorbar(cax)\n",
    "xaxis = np.arange(len(column_names))\n",
    "ax.set_xticks(xaxis)\n",
    "ax.set_yticks(xaxis)\n",
    "ax.set_xticklabels(['']+column_names, rotation=90)\n",
    "ax.set_yticklabels(['']+column_names)\n",
    "#plt.title('Correlation Matrix', fontsize=16);\n",
    "plt.show()"
   ]
  },
  {
   "cell_type": "markdown",
   "metadata": {},
   "source": [
    "Plot correlation to the target value to see which variable are the most important "
   ]
  },
  {
   "cell_type": "code",
   "execution_count": 22,
   "metadata": {},
   "outputs": [
    {
     "data": {
      "text/plain": [
       "Text(0.5, 1.0, 'Correlation with \"total_cases\" value')"
      ]
     },
     "execution_count": 22,
     "metadata": {},
     "output_type": "execute_result"
    },
    {
     "data": {
      "image/png": "[encoded data removed]",
      "text/plain": [
       "<Figure size 1080x720 with 1 Axes>"
      ]
     },
     "metadata": {
      "needs_background": "light"
     },
     "output_type": "display_data"
    }
   ],
   "source": [
    "data_train =  pd.merge(data,labels,on=['city', 'year', 'weekofyear'],how='right')\n",
    "corr = data_train.corr()  #'precipitation_amt_mm','reanalysis_specific_humidity_g_per_kg'  \n",
    "sorted_y = corr.sort_values(by='total_cases', axis=0).drop('total_cases')\n",
    "plt.figure(figsize=(15, 10))\n",
    "ax = sns.barplot(x=sorted_y.total_cases, y=sorted_y.index, color=\"g\")\n",
    "ax.set_title('Correlation with \"total_cases\" value')"
   ]
  },
  {
   "cell_type": "code",
   "execution_count": 23,
   "metadata": {},
   "outputs": [
    {
     "data": {
      "text/plain": [
       "Index(['city', 'year', 'weekofyear', 'week_start_date', 'ndvi_ne', 'ndvi_nw',\n",
       "       'ndvi_se', 'ndvi_sw', 'precipitation_amt_mm', 'reanalysis_air_temp_k',\n",
       "       'reanalysis_avg_temp_k', 'reanalysis_dew_point_temp_k',\n",
       "       'reanalysis_max_air_temp_k', 'reanalysis_min_air_temp_k',\n",
       "       'reanalysis_precip_amt_kg_per_m2',\n",
       "       'reanalysis_relative_humidity_percent', 'reanalysis_sat_precip_amt_mm',\n",
       "       'reanalysis_specific_humidity_g_per_kg', 'reanalysis_tdtr_k',\n",
       "       'station_avg_temp_c', 'station_diur_temp_rng_c', 'station_max_temp_c',\n",
       "       'station_min_temp_c', 'station_precip_mm', 'total_cases', 'date'],\n",
       "      dtype='object')"
      ]
     },
     "execution_count": 23,
     "metadata": {},
     "output_type": "execute_result"
    }
   ],
   "source": [
    "# will be removed from the analysis: 'precipitation_amt_mm','reanalysis_specific_humidity_g_per_kg'\n",
    "data_train.columns"
   ]
  },
  {
   "cell_type": "markdown",
   "metadata": {},
   "source": [
    "#  Data preprocessing"
   ]
  },
  {
   "cell_type": "markdown",
   "metadata": {},
   "source": [
    "## Missing values\n",
    "We have missing data, it can be seen from count row. It is essential to know how many records in your dataset have missing data (one or many) and decide what to do with them. We have several options: \n",
    "* Remove the row from the analysis. \n",
    "* Set an average\n",
    "* Do the interpolation \n",
    "\n",
    "<br> The interpolation (average from the neighbours) was used instead of replacing it with just an average from the entire set as we have series data."
   ]
  },
  {
   "cell_type": "code",
   "execution_count": 24,
   "metadata": {},
   "outputs": [
    {
     "name": "stderr",
     "output_type": "stream",
     "text": [
      "/home/jupyterlab/conda/envs/python/lib/python3.6/site-packages/ipykernel_launcher.py:4: FutureWarning: Treating datetime data as categorical rather than numeric in `.describe` is deprecated and will be removed in a future version of pandas. Specify `datetime_is_numeric=True` to silence this warning and adopt the future behavior now.\n",
      "  after removing the cwd from sys.path.\n"
     ]
    },
    {
     "data": {
      "text/html": [
       "<div>\n",
       "<style scoped>\n",
       "    .dataframe tbody tr th:only-of-type {\n",
       "        vertical-align: middle;\n",
       "    }\n",
       "\n",
       "    .dataframe tbody tr th {\n",
       "        vertical-align: top;\n",
       "    }\n",
       "\n",
       "    .dataframe thead th {\n",
       "        text-align: right;\n",
       "    }\n",
       "</style>\n",
       "<table border=\"1\" class=\"dataframe\">\n",
       "  <thead>\n",
       "    <tr style=\"text-align: right;\">\n",
       "      <th></th>\n",
       "      <th>city</th>\n",
       "      <th>year</th>\n",
       "      <th>weekofyear</th>\n",
       "      <th>week_start_date</th>\n",
       "      <th>ndvi_ne</th>\n",
       "      <th>ndvi_nw</th>\n",
       "      <th>ndvi_se</th>\n",
       "      <th>ndvi_sw</th>\n",
       "      <th>precipitation_amt_mm</th>\n",
       "      <th>reanalysis_air_temp_k</th>\n",
       "      <th>...</th>\n",
       "      <th>reanalysis_precip_amt_kg_per_m2</th>\n",
       "      <th>reanalysis_relative_humidity_percent</th>\n",
       "      <th>reanalysis_sat_precip_amt_mm</th>\n",
       "      <th>reanalysis_specific_humidity_g_per_kg</th>\n",
       "      <th>reanalysis_tdtr_k</th>\n",
       "      <th>station_avg_temp_c</th>\n",
       "      <th>station_diur_temp_rng_c</th>\n",
       "      <th>station_max_temp_c</th>\n",
       "      <th>station_min_temp_c</th>\n",
       "      <th>station_precip_mm</th>\n",
       "    </tr>\n",
       "  </thead>\n",
       "  <tbody>\n",
       "    <tr>\n",
       "      <th>count</th>\n",
       "      <td>1456</td>\n",
       "      <td>1456.00</td>\n",
       "      <td>1456.00</td>\n",
       "      <td>1456</td>\n",
       "      <td>1456.00</td>\n",
       "      <td>1456.00</td>\n",
       "      <td>1456.00</td>\n",
       "      <td>1456.00</td>\n",
       "      <td>1456.00</td>\n",
       "      <td>1456.00</td>\n",
       "      <td>...</td>\n",
       "      <td>1456.00</td>\n",
       "      <td>1456.00</td>\n",
       "      <td>1456.00</td>\n",
       "      <td>1456.00</td>\n",
       "      <td>1456.00</td>\n",
       "      <td>1456.00</td>\n",
       "      <td>1456.00</td>\n",
       "      <td>1456.00</td>\n",
       "      <td>1456.00</td>\n",
       "      <td>1456.00</td>\n",
       "    </tr>\n",
       "    <tr>\n",
       "      <th>unique</th>\n",
       "      <td>2</td>\n",
       "      <td>NaN</td>\n",
       "      <td>NaN</td>\n",
       "      <td>1049</td>\n",
       "      <td>NaN</td>\n",
       "      <td>NaN</td>\n",
       "      <td>NaN</td>\n",
       "      <td>NaN</td>\n",
       "      <td>NaN</td>\n",
       "      <td>NaN</td>\n",
       "      <td>...</td>\n",
       "      <td>NaN</td>\n",
       "      <td>NaN</td>\n",
       "      <td>NaN</td>\n",
       "      <td>NaN</td>\n",
       "      <td>NaN</td>\n",
       "      <td>NaN</td>\n",
       "      <td>NaN</td>\n",
       "      <td>NaN</td>\n",
       "      <td>NaN</td>\n",
       "      <td>NaN</td>\n",
       "    </tr>\n",
       "    <tr>\n",
       "      <th>top</th>\n",
       "      <td>sj</td>\n",
       "      <td>NaN</td>\n",
       "      <td>NaN</td>\n",
       "      <td>2005-01-29 00:00:00</td>\n",
       "      <td>NaN</td>\n",
       "      <td>NaN</td>\n",
       "      <td>NaN</td>\n",
       "      <td>NaN</td>\n",
       "      <td>NaN</td>\n",
       "      <td>NaN</td>\n",
       "      <td>...</td>\n",
       "      <td>NaN</td>\n",
       "      <td>NaN</td>\n",
       "      <td>NaN</td>\n",
       "      <td>NaN</td>\n",
       "      <td>NaN</td>\n",
       "      <td>NaN</td>\n",
       "      <td>NaN</td>\n",
       "      <td>NaN</td>\n",
       "      <td>NaN</td>\n",
       "      <td>NaN</td>\n",
       "    </tr>\n",
       "    <tr>\n",
       "      <th>freq</th>\n",
       "      <td>936</td>\n",
       "      <td>NaN</td>\n",
       "      <td>NaN</td>\n",
       "      <td>2</td>\n",
       "      <td>NaN</td>\n",
       "      <td>NaN</td>\n",
       "      <td>NaN</td>\n",
       "      <td>NaN</td>\n",
       "      <td>NaN</td>\n",
       "      <td>NaN</td>\n",
       "      <td>...</td>\n",
       "      <td>NaN</td>\n",
       "      <td>NaN</td>\n",
       "      <td>NaN</td>\n",
       "      <td>NaN</td>\n",
       "      <td>NaN</td>\n",
       "      <td>NaN</td>\n",
       "      <td>NaN</td>\n",
       "      <td>NaN</td>\n",
       "      <td>NaN</td>\n",
       "      <td>NaN</td>\n",
       "    </tr>\n",
       "    <tr>\n",
       "      <th>first</th>\n",
       "      <td>NaN</td>\n",
       "      <td>NaN</td>\n",
       "      <td>NaN</td>\n",
       "      <td>1990-04-30 00:00:00</td>\n",
       "      <td>NaN</td>\n",
       "      <td>NaN</td>\n",
       "      <td>NaN</td>\n",
       "      <td>NaN</td>\n",
       "      <td>NaN</td>\n",
       "      <td>NaN</td>\n",
       "      <td>...</td>\n",
       "      <td>NaN</td>\n",
       "      <td>NaN</td>\n",
       "      <td>NaN</td>\n",
       "      <td>NaN</td>\n",
       "      <td>NaN</td>\n",
       "      <td>NaN</td>\n",
       "      <td>NaN</td>\n",
       "      <td>NaN</td>\n",
       "      <td>NaN</td>\n",
       "      <td>NaN</td>\n",
       "    </tr>\n",
       "    <tr>\n",
       "      <th>last</th>\n",
       "      <td>NaN</td>\n",
       "      <td>NaN</td>\n",
       "      <td>NaN</td>\n",
       "      <td>2010-06-25 00:00:00</td>\n",
       "      <td>NaN</td>\n",
       "      <td>NaN</td>\n",
       "      <td>NaN</td>\n",
       "      <td>NaN</td>\n",
       "      <td>NaN</td>\n",
       "      <td>NaN</td>\n",
       "      <td>...</td>\n",
       "      <td>NaN</td>\n",
       "      <td>NaN</td>\n",
       "      <td>NaN</td>\n",
       "      <td>NaN</td>\n",
       "      <td>NaN</td>\n",
       "      <td>NaN</td>\n",
       "      <td>NaN</td>\n",
       "      <td>NaN</td>\n",
       "      <td>NaN</td>\n",
       "      <td>NaN</td>\n",
       "    </tr>\n",
       "    <tr>\n",
       "      <th>mean</th>\n",
       "      <td>NaN</td>\n",
       "      <td>2001.03</td>\n",
       "      <td>26.50</td>\n",
       "      <td>NaN</td>\n",
       "      <td>0.13</td>\n",
       "      <td>0.13</td>\n",
       "      <td>0.20</td>\n",
       "      <td>0.20</td>\n",
       "      <td>45.70</td>\n",
       "      <td>298.70</td>\n",
       "      <td>...</td>\n",
       "      <td>40.13</td>\n",
       "      <td>82.17</td>\n",
       "      <td>45.70</td>\n",
       "      <td>16.74</td>\n",
       "      <td>4.90</td>\n",
       "      <td>27.18</td>\n",
       "      <td>8.10</td>\n",
       "      <td>32.45</td>\n",
       "      <td>22.10</td>\n",
       "      <td>39.36</td>\n",
       "    </tr>\n",
       "    <tr>\n",
       "      <th>std</th>\n",
       "      <td>NaN</td>\n",
       "      <td>5.41</td>\n",
       "      <td>15.02</td>\n",
       "      <td>NaN</td>\n",
       "      <td>0.14</td>\n",
       "      <td>0.12</td>\n",
       "      <td>0.07</td>\n",
       "      <td>0.08</td>\n",
       "      <td>43.65</td>\n",
       "      <td>1.36</td>\n",
       "      <td>...</td>\n",
       "      <td>43.31</td>\n",
       "      <td>7.15</td>\n",
       "      <td>43.65</td>\n",
       "      <td>1.54</td>\n",
       "      <td>3.54</td>\n",
       "      <td>1.28</td>\n",
       "      <td>2.13</td>\n",
       "      <td>1.96</td>\n",
       "      <td>1.57</td>\n",
       "      <td>47.29</td>\n",
       "    </tr>\n",
       "    <tr>\n",
       "      <th>min</th>\n",
       "      <td>NaN</td>\n",
       "      <td>1990.00</td>\n",
       "      <td>1.00</td>\n",
       "      <td>NaN</td>\n",
       "      <td>-0.41</td>\n",
       "      <td>-0.46</td>\n",
       "      <td>-0.02</td>\n",
       "      <td>-0.06</td>\n",
       "      <td>0.00</td>\n",
       "      <td>294.64</td>\n",
       "      <td>...</td>\n",
       "      <td>0.00</td>\n",
       "      <td>57.79</td>\n",
       "      <td>0.00</td>\n",
       "      <td>11.72</td>\n",
       "      <td>1.36</td>\n",
       "      <td>21.40</td>\n",
       "      <td>4.53</td>\n",
       "      <td>26.70</td>\n",
       "      <td>14.70</td>\n",
       "      <td>0.00</td>\n",
       "    </tr>\n",
       "    <tr>\n",
       "      <th>25%</th>\n",
       "      <td>NaN</td>\n",
       "      <td>1997.00</td>\n",
       "      <td>13.75</td>\n",
       "      <td>NaN</td>\n",
       "      <td>0.04</td>\n",
       "      <td>0.05</td>\n",
       "      <td>0.15</td>\n",
       "      <td>0.14</td>\n",
       "      <td>9.79</td>\n",
       "      <td>297.66</td>\n",
       "      <td>...</td>\n",
       "      <td>13.20</td>\n",
       "      <td>77.20</td>\n",
       "      <td>9.79</td>\n",
       "      <td>15.55</td>\n",
       "      <td>2.33</td>\n",
       "      <td>26.31</td>\n",
       "      <td>6.53</td>\n",
       "      <td>31.10</td>\n",
       "      <td>21.10</td>\n",
       "      <td>8.85</td>\n",
       "    </tr>\n",
       "    <tr>\n",
       "      <th>50%</th>\n",
       "      <td>NaN</td>\n",
       "      <td>2002.00</td>\n",
       "      <td>26.50</td>\n",
       "      <td>NaN</td>\n",
       "      <td>0.12</td>\n",
       "      <td>0.12</td>\n",
       "      <td>0.20</td>\n",
       "      <td>0.19</td>\n",
       "      <td>38.32</td>\n",
       "      <td>298.64</td>\n",
       "      <td>...</td>\n",
       "      <td>27.30</td>\n",
       "      <td>80.29</td>\n",
       "      <td>38.32</td>\n",
       "      <td>17.08</td>\n",
       "      <td>2.86</td>\n",
       "      <td>27.40</td>\n",
       "      <td>7.35</td>\n",
       "      <td>32.80</td>\n",
       "      <td>22.20</td>\n",
       "      <td>24.05</td>\n",
       "    </tr>\n",
       "    <tr>\n",
       "      <th>75%</th>\n",
       "      <td>NaN</td>\n",
       "      <td>2005.00</td>\n",
       "      <td>39.25</td>\n",
       "      <td>NaN</td>\n",
       "      <td>0.23</td>\n",
       "      <td>0.21</td>\n",
       "      <td>0.25</td>\n",
       "      <td>0.25</td>\n",
       "      <td>70.23</td>\n",
       "      <td>299.83</td>\n",
       "      <td>...</td>\n",
       "      <td>52.20</td>\n",
       "      <td>86.44</td>\n",
       "      <td>70.23</td>\n",
       "      <td>17.98</td>\n",
       "      <td>7.63</td>\n",
       "      <td>28.13</td>\n",
       "      <td>9.60</td>\n",
       "      <td>33.90</td>\n",
       "      <td>23.30</td>\n",
       "      <td>53.90</td>\n",
       "    </tr>\n",
       "    <tr>\n",
       "      <th>max</th>\n",
       "      <td>NaN</td>\n",
       "      <td>2010.00</td>\n",
       "      <td>53.00</td>\n",
       "      <td>NaN</td>\n",
       "      <td>0.51</td>\n",
       "      <td>0.45</td>\n",
       "      <td>0.54</td>\n",
       "      <td>0.55</td>\n",
       "      <td>390.60</td>\n",
       "      <td>302.20</td>\n",
       "      <td>...</td>\n",
       "      <td>570.50</td>\n",
       "      <td>98.61</td>\n",
       "      <td>390.60</td>\n",
       "      <td>20.46</td>\n",
       "      <td>16.03</td>\n",
       "      <td>30.80</td>\n",
       "      <td>15.80</td>\n",
       "      <td>42.20</td>\n",
       "      <td>25.60</td>\n",
       "      <td>543.30</td>\n",
       "    </tr>\n",
       "  </tbody>\n",
       "</table>\n",
       "<p>13 rows × 24 columns</p>\n",
       "</div>"
      ],
      "text/plain": [
       "        city     year  weekofyear      week_start_date  ndvi_ne  ndvi_nw  \\\n",
       "count   1456  1456.00     1456.00                 1456  1456.00  1456.00   \n",
       "unique     2      NaN         NaN                 1049      NaN      NaN   \n",
       "top       sj      NaN         NaN  2005-01-29 00:00:00      NaN      NaN   \n",
       "freq     936      NaN         NaN                    2      NaN      NaN   \n",
       "first    NaN      NaN         NaN  1990-04-30 00:00:00      NaN      NaN   \n",
       "last     NaN      NaN         NaN  2010-06-25 00:00:00      NaN      NaN   \n",
       "mean     NaN  2001.03       26.50                  NaN     0.13     0.13   \n",
       "std      NaN     5.41       15.02                  NaN     0.14     0.12   \n",
       "min      NaN  1990.00        1.00                  NaN    -0.41    -0.46   \n",
       "25%      NaN  1997.00       13.75                  NaN     0.04     0.05   \n",
       "50%      NaN  2002.00       26.50                  NaN     0.12     0.12   \n",
       "75%      NaN  2005.00       39.25                  NaN     0.23     0.21   \n",
       "max      NaN  2010.00       53.00                  NaN     0.51     0.45   \n",
       "\n",
       "        ndvi_se  ndvi_sw  precipitation_amt_mm  reanalysis_air_temp_k  ...  \\\n",
       "count   1456.00  1456.00               1456.00                1456.00  ...   \n",
       "unique      NaN      NaN                   NaN                    NaN  ...   \n",
       "top         NaN      NaN                   NaN                    NaN  ...   \n",
       "freq        NaN      NaN                   NaN                    NaN  ...   \n",
       "first       NaN      NaN                   NaN                    NaN  ...   \n",
       "last        NaN      NaN                   NaN                    NaN  ...   \n",
       "mean       0.20     0.20                 45.70                 298.70  ...   \n",
       "std        0.07     0.08                 43.65                   1.36  ...   \n",
       "min       -0.02    -0.06                  0.00                 294.64  ...   \n",
       "25%        0.15     0.14                  9.79                 297.66  ...   \n",
       "50%        0.20     0.19                 38.32                 298.64  ...   \n",
       "75%        0.25     0.25                 70.23                 299.83  ...   \n",
       "max        0.54     0.55                390.60                 302.20  ...   \n",
       "\n",
       "        reanalysis_precip_amt_kg_per_m2  reanalysis_relative_humidity_percent  \\\n",
       "count                           1456.00                               1456.00   \n",
       "unique                              NaN                                   NaN   \n",
       "top                                 NaN                                   NaN   \n",
       "freq                                NaN                                   NaN   \n",
       "first                               NaN                                   NaN   \n",
       "last                                NaN                                   NaN   \n",
       "mean                              40.13                                 82.17   \n",
       "std                               43.31                                  7.15   \n",
       "min                                0.00                                 57.79   \n",
       "25%                               13.20                                 77.20   \n",
       "50%                               27.30                                 80.29   \n",
       "75%                               52.20                                 86.44   \n",
       "max                              570.50                                 98.61   \n",
       "\n",
       "        reanalysis_sat_precip_amt_mm  reanalysis_specific_humidity_g_per_kg  \\\n",
       "count                        1456.00                                1456.00   \n",
       "unique                           NaN                                    NaN   \n",
       "top                              NaN                                    NaN   \n",
       "freq                             NaN                                    NaN   \n",
       "first                            NaN                                    NaN   \n",
       "last                             NaN                                    NaN   \n",
       "mean                           45.70                                  16.74   \n",
       "std                            43.65                                   1.54   \n",
       "min                             0.00                                  11.72   \n",
       "25%                             9.79                                  15.55   \n",
       "50%                            38.32                                  17.08   \n",
       "75%                            70.23                                  17.98   \n",
       "max                           390.60                                  20.46   \n",
       "\n",
       "        reanalysis_tdtr_k  station_avg_temp_c  station_diur_temp_rng_c  \\\n",
       "count             1456.00             1456.00                  1456.00   \n",
       "unique                NaN                 NaN                      NaN   \n",
       "top                   NaN                 NaN                      NaN   \n",
       "freq                  NaN                 NaN                      NaN   \n",
       "first                 NaN                 NaN                      NaN   \n",
       "last                  NaN                 NaN                      NaN   \n",
       "mean                 4.90               27.18                     8.10   \n",
       "std                  3.54                1.28                     2.13   \n",
       "min                  1.36               21.40                     4.53   \n",
       "25%                  2.33               26.31                     6.53   \n",
       "50%                  2.86               27.40                     7.35   \n",
       "75%                  7.63               28.13                     9.60   \n",
       "max                 16.03               30.80                    15.80   \n",
       "\n",
       "        station_max_temp_c  station_min_temp_c  station_precip_mm  \n",
       "count              1456.00             1456.00            1456.00  \n",
       "unique                 NaN                 NaN                NaN  \n",
       "top                    NaN                 NaN                NaN  \n",
       "freq                   NaN                 NaN                NaN  \n",
       "first                  NaN                 NaN                NaN  \n",
       "last                   NaN                 NaN                NaN  \n",
       "mean                 32.45               22.10              39.36  \n",
       "std                   1.96                1.57              47.29  \n",
       "min                  26.70               14.70               0.00  \n",
       "25%                  31.10               21.10               8.85  \n",
       "50%                  32.80               22.20              24.05  \n",
       "75%                  33.90               23.30              53.90  \n",
       "max                  42.20               25.60             543.30  \n",
       "\n",
       "[13 rows x 24 columns]"
      ]
     },
     "execution_count": 24,
     "metadata": {},
     "output_type": "execute_result"
    }
   ],
   "source": [
    "# the same steps for training and test sets\n",
    "data = data.interpolate(method='linear', limit_direction='forward')\n",
    "data_test_final = data_test.interpolate(method='linear', limit_direction='forward')\n",
    "data.describe(include='all')\n"
   ]
  },
  {
   "cell_type": "markdown",
   "metadata": {},
   "source": [
    "## Data Transformation\n",
    "In the dataset, the station temperatures were given in Celsius scale while reanalysis temperature features were given in Kelvin scale. As a data transformation step, all of those were converted into the Kelvin."
   ]
  },
  {
   "cell_type": "code",
   "execution_count": 25,
   "metadata": {},
   "outputs": [],
   "source": [
    "data = pd.concat([data[col] + 273.15 if (col.find(\"_c\") != -1) else data[col] for col in data], 1)                           \n",
    "data.columns = data.columns.str.replace('_c','_k')\n",
    "\n",
    "data_test_final = pd.concat([data_test_final[col] + 273.15 if (col.find(\"_c\") != -1) else data_test_final[col] for col in data_test_final], 1)                            \n",
    "data_test_final.columns = data_test_final.columns.str.replace('_c','_k')\n",
    "\n",
    "#add column month of year\n",
    "data['monthofyear'] = pd.DatetimeIndex(data['week_start_date']).month\n",
    "data_test_final['monthofyear'] = pd.DatetimeIndex(data_test_final['week_start_date']).month \n"
   ]
  },
  {
   "cell_type": "markdown",
   "metadata": {},
   "source": [
    "Create data frame with target values"
   ]
  },
  {
   "cell_type": "code",
   "execution_count": 26,
   "metadata": {},
   "outputs": [
    {
     "data": {
      "text/html": [
       "<div>\n",
       "<style scoped>\n",
       "    .dataframe tbody tr th:only-of-type {\n",
       "        vertical-align: middle;\n",
       "    }\n",
       "\n",
       "    .dataframe tbody tr th {\n",
       "        vertical-align: top;\n",
       "    }\n",
       "\n",
       "    .dataframe thead th {\n",
       "        text-align: right;\n",
       "    }\n",
       "</style>\n",
       "<table border=\"1\" class=\"dataframe\">\n",
       "  <thead>\n",
       "    <tr style=\"text-align: right;\">\n",
       "      <th></th>\n",
       "      <th>city</th>\n",
       "      <th>year</th>\n",
       "      <th>weekofyear</th>\n",
       "      <th>week_start_date</th>\n",
       "      <th>ndvi_ne</th>\n",
       "      <th>ndvi_nw</th>\n",
       "      <th>ndvi_se</th>\n",
       "      <th>ndvi_sw</th>\n",
       "      <th>precipitation_amt_mm</th>\n",
       "      <th>reanalysis_air_temp_k</th>\n",
       "      <th>...</th>\n",
       "      <th>reanalysis_specific_humidity_g_per_kg</th>\n",
       "      <th>reanalysis_tdtr_k</th>\n",
       "      <th>station_avg_temp_k</th>\n",
       "      <th>station_diur_temp_rng_k</th>\n",
       "      <th>station_max_temp_k</th>\n",
       "      <th>station_min_temp_k</th>\n",
       "      <th>station_precip_mm</th>\n",
       "      <th>monthofyear</th>\n",
       "      <th>total_cases</th>\n",
       "      <th>date</th>\n",
       "    </tr>\n",
       "  </thead>\n",
       "  <tbody>\n",
       "    <tr>\n",
       "      <th>0</th>\n",
       "      <td>sj</td>\n",
       "      <td>1990</td>\n",
       "      <td>18</td>\n",
       "      <td>1990-04-30</td>\n",
       "      <td>0.12</td>\n",
       "      <td>0.10</td>\n",
       "      <td>0.20</td>\n",
       "      <td>0.18</td>\n",
       "      <td>12.42</td>\n",
       "      <td>297.57</td>\n",
       "      <td>...</td>\n",
       "      <td>14.01</td>\n",
       "      <td>2.63</td>\n",
       "      <td>298.59</td>\n",
       "      <td>280.05</td>\n",
       "      <td>302.55</td>\n",
       "      <td>293.15</td>\n",
       "      <td>16.0</td>\n",
       "      <td>4</td>\n",
       "      <td>4</td>\n",
       "      <td>1990-05-07</td>\n",
       "    </tr>\n",
       "    <tr>\n",
       "      <th>1</th>\n",
       "      <td>sj</td>\n",
       "      <td>1990</td>\n",
       "      <td>19</td>\n",
       "      <td>1990-05-07</td>\n",
       "      <td>0.17</td>\n",
       "      <td>0.14</td>\n",
       "      <td>0.16</td>\n",
       "      <td>0.16</td>\n",
       "      <td>22.82</td>\n",
       "      <td>298.21</td>\n",
       "      <td>...</td>\n",
       "      <td>15.37</td>\n",
       "      <td>2.37</td>\n",
       "      <td>299.86</td>\n",
       "      <td>279.52</td>\n",
       "      <td>304.85</td>\n",
       "      <td>295.35</td>\n",
       "      <td>8.6</td>\n",
       "      <td>5</td>\n",
       "      <td>5</td>\n",
       "      <td>1990-05-14</td>\n",
       "    </tr>\n",
       "  </tbody>\n",
       "</table>\n",
       "<p>2 rows × 27 columns</p>\n",
       "</div>"
      ],
      "text/plain": [
       "  city  year  weekofyear week_start_date  ndvi_ne  ndvi_nw  ndvi_se  ndvi_sw  \\\n",
       "0   sj  1990          18      1990-04-30     0.12     0.10     0.20     0.18   \n",
       "1   sj  1990          19      1990-05-07     0.17     0.14     0.16     0.16   \n",
       "\n",
       "   precipitation_amt_mm  reanalysis_air_temp_k  ...  \\\n",
       "0                 12.42                 297.57  ...   \n",
       "1                 22.82                 298.21  ...   \n",
       "\n",
       "   reanalysis_specific_humidity_g_per_kg  reanalysis_tdtr_k  \\\n",
       "0                                  14.01               2.63   \n",
       "1                                  15.37               2.37   \n",
       "\n",
       "   station_avg_temp_k  station_diur_temp_rng_k  station_max_temp_k  \\\n",
       "0              298.59                   280.05              302.55   \n",
       "1              299.86                   279.52              304.85   \n",
       "\n",
       "   station_min_temp_k  station_precip_mm  monthofyear  total_cases       date  \n",
       "0              293.15               16.0            4            4 1990-05-07  \n",
       "1              295.35                8.6            5            5 1990-05-14  \n",
       "\n",
       "[2 rows x 27 columns]"
      ]
     },
     "execution_count": 26,
     "metadata": {},
     "output_type": "execute_result"
    }
   ],
   "source": [
    "data_train =  pd.merge(data,labels,on=['city', 'year', 'weekofyear'],how='right')\n",
    "data_train.head(2)"
   ]
  },
  {
   "cell_type": "code",
   "execution_count": 27,
   "metadata": {},
   "outputs": [],
   "source": [
    "# transforming categorical data dataframe\n",
    "train_dummies = pd.get_dummies(data_train.drop(['week_start_date'], axis = 1))\n",
    "train_dummies=train_dummies.drop(columns=['date'])\n",
    "\n",
    "# transforming categorical data dataframe test set\n",
    "data_test_final_dummies=pd.get_dummies(data_test_final.drop(['week_start_date'], axis = 1))"
   ]
  },
  {
   "cell_type": "markdown",
   "metadata": {},
   "source": [
    "## Identify and remove outliers\n",
    "\n",
    "Isolation Forest, or iForest for short, is a tree-based anomaly detection algorithm.\n",
    "\n",
    "It is based on modeling the normal data in such a way as to isolate anomalies that are both few in number and different in the feature space.\n",
    "\n",
    "Perhaps the most important hyperparameter in the model is the “contamination” argument, which is used to help estimate the number of outliers in the dataset. This is a value between 0.0 and 0.5 and by default is set to 0.1."
   ]
  },
  {
   "cell_type": "code",
   "execution_count": 28,
   "metadata": {},
   "outputs": [
    {
     "name": "stdout",
     "output_type": "stream",
     "text": [
      "(1456, 25) (1456, 5)\n"
     ]
    },
    {
     "name": "stderr",
     "output_type": "stream",
     "text": [
      "/home/jupyterlab/conda/envs/python/lib/python3.6/site-packages/sklearn/ensemble/iforest.py:223: FutureWarning: behaviour=\"old\" is deprecated and will be removed in version 0.22. Please use behaviour=\"new\", which makes the decision_function change to match other anomaly detection algorithm API.\n",
      "  FutureWarning)\n",
      "/home/jupyterlab/conda/envs/python/lib/python3.6/site-packages/sklearn/ensemble/iforest.py:417: DeprecationWarning: threshold_ attribute is deprecated in 0.20 and will be removed in 0.22.\n",
      "  \" be removed in 0.22.\", DeprecationWarning)\n"
     ]
    }
   ],
   "source": [
    "from sklearn.ensemble import IsolationForest\n",
    "# summarize the shape of the training dataset\n",
    "print(data.shape, labels.shape)\n",
    "# identify outliers in the training dataset\n",
    "iso = IsolationForest(contamination=0.005)\n",
    "IF = iso.fit_predict(train_dummies)\n",
    "# select all rows that are not outliers\n",
    "mask = IF != -1"
   ]
  },
  {
   "cell_type": "code",
   "execution_count": 29,
   "metadata": {},
   "outputs": [
    {
     "name": "stdout",
     "output_type": "stream",
     "text": [
      "(1448, 27) (1456, 5)\n"
     ]
    }
   ],
   "source": [
    "data_train = data_train[mask]\n",
    "train_dummies=train_dummies[mask]\n",
    "# summarize the shape of the updated training dataset\n",
    "print(data_train.shape, labels.shape)"
   ]
  },
  {
   "cell_type": "code",
   "execution_count": 30,
   "metadata": {},
   "outputs": [
    {
     "name": "stdout",
     "output_type": "stream",
     "text": [
      "Collecting fbprophet\n",
      "\u001b[?25l  Downloading https://files.pythonhosted.org/packages/1a/b5/9c3fefa8a7b839729df57deedf0a69815841dfb88f0df911f34d998230b7/fbprophet-0.7.1.tar.gz (64kB)\n",
      "\u001b[K     |████████████████████████████████| 71kB 13.1MB/s eta 0:00:01\n",
      "\u001b[?25hCollecting Cython>=0.22 (from fbprophet)\n",
      "\u001b[?25l  Downloading https://files.pythonhosted.org/packages/72/40/87b8e2baad5120c3e715206d44f28591cb6c57d0c5435660358aa323f482/Cython-0.29.22-cp36-cp36m-manylinux1_x86_64.whl (2.0MB)\n",
      "\u001b[K     |████████████████████████████████| 2.0MB 7.0MB/s eta 0:00:01\n",
      "\u001b[?25hCollecting cmdstanpy==0.9.5 (from fbprophet)\n",
      "  Downloading https://files.pythonhosted.org/packages/e3/e2/204c9c6beaf9e05ad28bd589c154afff35dffa6166d76841d3c0dec6c1e3/cmdstanpy-0.9.5-py3-none-any.whl\n",
      "Collecting pystan>=2.14 (from fbprophet)\n",
      "\u001b[?25l  Downloading https://files.pythonhosted.org/packages/b9/97/a613a98b72090e36b3bc5edc56977596038986cd224a2ae651c4c6a688b3/pystan-2.19.1.1-cp36-cp36m-manylinux1_x86_64.whl (67.3MB)\n",
      "\u001b[K     |████████████████████████████████| 67.3MB 221kB/s  eta 0:00:01     |███████████████████▍            | 40.7MB 38.2MB/s eta 0:00:01     | 42.8MB 38.2MB/s eta 0:00:01�█████████▎          | 44.7MB 38.2MB/s eta 0:00:01     |███████████████████████▌        | 49.4MB 4.9MB/s eta 0:00:04     |███████████████████████▉        | 50.1MB 4.9MB/s eta 0:00:04��█████████▎   | 59.4MB 37.8MB/s eta 0:00:01     |█████████████████████████████▍  | 61.8MB 44.2MB/s eta 0:00:01\n",
      "\u001b[?25hRequirement already satisfied: numpy>=1.15.4 in /home/jupyterlab/conda/envs/python/lib/python3.6/site-packages (from fbprophet) (1.19.4)\n",
      "Requirement already satisfied: pandas>=1.0.4 in /home/jupyterlab/conda/envs/python/lib/python3.6/site-packages (from fbprophet) (1.1.5)\n",
      "Requirement already satisfied: matplotlib>=2.0.0 in /home/jupyterlab/conda/envs/python/lib/python3.6/site-packages (from fbprophet) (3.3.3)\n",
      "Collecting LunarCalendar>=0.0.9 (from fbprophet)\n",
      "  Downloading https://files.pythonhosted.org/packages/ab/e0/a52ffc02395474858552ca6437226e23ad67e25fd85cb387f02e479cfe01/LunarCalendar-0.0.9-py2.py3-none-any.whl\n",
      "Collecting convertdate>=2.1.2 (from fbprophet)\n",
      "\u001b[?25l  Downloading https://files.pythonhosted.org/packages/33/d6/86703e7fd709cd1503c9ac84db816b9017bd2ef0720404f9e71bdaf4b34a/convertdate-2.3.1-py3-none-any.whl (45kB)\n",
      "\u001b[K     |████████████████████████████████| 51kB 3.4MB/s eta 0:00:01\n",
      "\u001b[?25hCollecting holidays>=0.10.2 (from fbprophet)\n",
      "\u001b[?25l  Downloading https://files.pythonhosted.org/packages/2a/da/3d54dac11dfb65799448ad1aebabf14f780d40203e5215ebd9517b42cb29/holidays-0.10.5.2.tar.gz (121kB)\n",
      "\u001b[K     |████████████████████████████████| 122kB 33.7MB/s eta 0:00:01\n",
      "\u001b[?25hCollecting setuptools-git>=1.2 (from fbprophet)\n",
      "  Downloading https://files.pythonhosted.org/packages/05/97/dd99fa9c0d9627a7b3c103a00f1566d8193aca8d473884ed258cca82b06f/setuptools_git-1.2-py2.py3-none-any.whl\n",
      "Requirement already satisfied: python-dateutil>=2.8.0 in /home/jupyterlab/conda/envs/python/lib/python3.6/site-packages (from fbprophet) (2.8.1)\n",
      "Collecting tqdm>=4.36.1 (from fbprophet)\n",
      "\u001b[?25l  Downloading https://files.pythonhosted.org/packages/4e/8c/f1035bd24b0e352ddba7be320abc1603fc4c9976fcda6971ed287be59164/tqdm-4.58.0-py2.py3-none-any.whl (73kB)\n",
      "\u001b[K     |████████████████████████████████| 81kB 22.7MB/s eta 0:00:01\n",
      "\u001b[?25hRequirement already satisfied: pytz>=2017.2 in /home/jupyterlab/conda/envs/python/lib/python3.6/site-packages (from pandas>=1.0.4->fbprophet) (2020.4)\n",
      "Requirement already satisfied: pyparsing!=2.0.4,!=2.1.2,!=2.1.6,>=2.0.3 in /home/jupyterlab/conda/envs/python/lib/python3.6/site-packages (from matplotlib>=2.0.0->fbprophet) (2.4.7)\n",
      "Requirement already satisfied: pillow>=6.2.0 in /home/jupyterlab/conda/envs/python/lib/python3.6/site-packages (from matplotlib>=2.0.0->fbprophet) (8.0.1)\n",
      "Requirement already satisfied: kiwisolver>=1.0.1 in /home/jupyterlab/conda/envs/python/lib/python3.6/site-packages (from matplotlib>=2.0.0->fbprophet) (1.3.1)\n",
      "Requirement already satisfied: cycler>=0.10 in /home/jupyterlab/conda/envs/python/lib/python3.6/site-packages (from matplotlib>=2.0.0->fbprophet) (0.10.0)\n",
      "Collecting ephem>=3.7.5.3 (from LunarCalendar>=0.0.9->fbprophet)\n",
      "\u001b[?25l  Downloading https://files.pythonhosted.org/packages/6e/ba/7c7ac20f0d5d97d3d1a35c21916c19f3420457cdb4ea70f714e64277fd1d/ephem-3.7.7.1-cp36-cp36m-manylinux2010_x86_64.whl (1.2MB)\n",
      "\u001b[K     |████████████████████████████████| 1.2MB 32.6MB/s eta 0:00:01\n",
      "\u001b[?25hCollecting pymeeus!=0.3.8,<=1,>=0.3.6 (from convertdate>=2.1.2->fbprophet)\n",
      "\u001b[?25l  Downloading https://files.pythonhosted.org/packages/ad/06/77466a7903dee8b045ab590e3021fee6a428d588efbf10f81bd0c3fc55f6/PyMeeus-0.4.3.tar.gz (5.3MB)\n",
      "\u001b[K     |████████████████████████████████| 5.3MB 33.5MB/s eta 0:00:01\n",
      "\u001b[?25hRequirement already satisfied: six in /home/jupyterlab/conda/envs/python/lib/python3.6/site-packages (from holidays>=0.10.2->fbprophet) (1.15.0)\n",
      "Collecting korean_lunar_calendar (from holidays>=0.10.2->fbprophet)\n",
      "  Downloading https://files.pythonhosted.org/packages/15/41/aa426a4a9141afd8e7f5c8312bb59d5693274f3f7b34e73bdce4ee48b4c1/korean_lunar_calendar-0.2.1-py3-none-any.whl\n",
      "Collecting hijri_converter (from holidays>=0.10.2->fbprophet)\n",
      "  Downloading https://files.pythonhosted.org/packages/3e/75/e6da96d4ea768c8e6fa9676cffce80e457b66c3beb5711189959582870d6/hijri_converter-2.1.1-py3-none-any.whl\n",
      "Building wheels for collected packages: fbprophet, holidays, pymeeus\n",
      "  Building wheel for fbprophet (setup.py) ... \u001b[?25lerror\n",
      "\u001b[31m  ERROR: Complete output from command /home/jupyterlab/conda/envs/python/bin/python -u -c 'import setuptools, tokenize;__file__='\"'\"'/tmp/pip-install-46jl2zxk/fbprophet/setup.py'\"'\"';f=getattr(tokenize, '\"'\"'open'\"'\"', open)(__file__);code=f.read().replace('\"'\"'\\r\\n'\"'\"', '\"'\"'\\n'\"'\"');f.close();exec(compile(code, __file__, '\"'\"'exec'\"'\"'))' bdist_wheel -d /tmp/pip-wheel-v92xh74w --python-tag cp36:\u001b[0m\n",
      "\u001b[31m  ERROR: running bdist_wheel\n",
      "  running build\n",
      "  running build_py\n",
      "  creating build\n",
      "  creating build/lib\n",
      "  creating build/lib/fbprophet\n",
      "  creating build/lib/fbprophet/stan_model\n",
      "  Traceback (most recent call last):\n",
      "    File \"<string>\", line 1, in <module>\n",
      "    File \"/tmp/pip-install-46jl2zxk/fbprophet/setup.py\", line 149, in <module>\n",
      "      long_description_content_type='text/markdown',\n",
      "    File \"/home/jupyterlab/conda/envs/python/lib/python3.6/site-packages/setuptools/__init__.py\", line 163, in setup\n",
      "      return distutils.core.setup(**attrs)\n",
      "    File \"/home/jupyterlab/conda/envs/python/lib/python3.6/distutils/core.py\", line 148, in setup\n",
      "      dist.run_commands()\n",
      "    File \"/home/jupyterlab/conda/envs/python/lib/python3.6/distutils/dist.py\", line 955, in run_commands\n",
      "      self.run_command(cmd)\n",
      "    File \"/home/jupyterlab/conda/envs/python/lib/python3.6/distutils/dist.py\", line 974, in run_command\n",
      "      cmd_obj.run()\n",
      "    File \"/home/jupyterlab/conda/envs/python/lib/python3.6/site-packages/wheel/bdist_wheel.py\", line 299, in run\n",
      "      self.run_command('build')\n",
      "    File \"/home/jupyterlab/conda/envs/python/lib/python3.6/distutils/cmd.py\", line 313, in run_command\n",
      "      self.distribution.run_command(command)\n",
      "    File \"/home/jupyterlab/conda/envs/python/lib/python3.6/distutils/dist.py\", line 974, in run_command\n",
      "      cmd_obj.run()\n",
      "    File \"/home/jupyterlab/conda/envs/python/lib/python3.6/distutils/command/build.py\", line 135, in run\n",
      "      self.run_command(cmd_name)\n",
      "    File \"/home/jupyterlab/conda/envs/python/lib/python3.6/distutils/cmd.py\", line 313, in run_command\n",
      "      self.distribution.run_command(command)\n",
      "    File \"/home/jupyterlab/conda/envs/python/lib/python3.6/distutils/dist.py\", line 974, in run_command\n",
      "      cmd_obj.run()\n",
      "    File \"/tmp/pip-install-46jl2zxk/fbprophet/setup.py\", line 48, in run\n",
      "      build_models(target_dir)\n",
      "    File \"/tmp/pip-install-46jl2zxk/fbprophet/setup.py\", line 36, in build_models\n",
      "      from fbprophet.models import StanBackendEnum\n",
      "    File \"/tmp/pip-install-46jl2zxk/fbprophet/fbprophet/__init__.py\", line 8, in <module>\n",
      "      from fbprophet.forecaster import Prophet\n",
      "    File \"/tmp/pip-install-46jl2zxk/fbprophet/fbprophet/forecaster.py\", line 17, in <module>\n",
      "      from fbprophet.make_holidays import get_holiday_names, make_holidays_df\n",
      "    File \"/tmp/pip-install-46jl2zxk/fbprophet/fbprophet/make_holidays.py\", line 14, in <module>\n",
      "      import fbprophet.hdays as hdays_part2\n",
      "    File \"/tmp/pip-install-46jl2zxk/fbprophet/fbprophet/hdays.py\", line 13, in <module>\n",
      "      from convertdate.islamic import from_gregorian, to_gregorian\n",
      "  ModuleNotFoundError: No module named 'convertdate'\n",
      "  ----------------------------------------\u001b[0m\n",
      "\u001b[31m  ERROR: Failed building wheel for fbprophet\u001b[0m\n",
      "\u001b[?25h  Running setup.py clean for fbprophet\n",
      "  Building wheel for holidays (setup.py) ... \u001b[?25ldone\n",
      "\u001b[?25h  Stored in directory: /home/jupyterlab/.cache/pip/wheels/e7/62/d6/f5bee2a6cc5427fdec38dd2bea41d3703d543ab42f0197e9b1\n",
      "  Building wheel for pymeeus (setup.py) ... \u001b[?25ldone\n",
      "\u001b[?25h  Stored in directory: /home/jupyterlab/.cache/pip/wheels/2a/fa/aa/2810b4796035f9c06c037dfec6b44c306a5ccbfed38fc25870\n",
      "Successfully built holidays pymeeus\n",
      "Failed to build fbprophet\n",
      "Installing collected packages: Cython, cmdstanpy, pystan, ephem, LunarCalendar, pymeeus, convertdate, korean-lunar-calendar, hijri-converter, holidays, setuptools-git, tqdm, fbprophet\n",
      "  Running setup.py install for fbprophet ... \u001b[?25ldone\n",
      "\u001b[?25hSuccessfully installed Cython-0.29.22 LunarCalendar-0.0.9 cmdstanpy-0.9.5 convertdate-2.3.1 ephem-3.7.7.1 fbprophet-0.7.1 hijri-converter-2.1.1 holidays-0.10.5.2 korean-lunar-calendar-0.2.1 pymeeus-0.4.3 pystan-2.19.1.1 setuptools-git-1.2 tqdm-4.58.0\n"
     ]
    }
   ],
   "source": [
    "!pip install fbprophet"
   ]
  },
  {
   "cell_type": "markdown",
   "metadata": {},
   "source": [
    "# Prediction based on time"
   ]
  },
  {
   "cell_type": "code",
   "execution_count": 31,
   "metadata": {},
   "outputs": [],
   "source": [
    "from fbprophet import Prophet"
   ]
  },
  {
   "cell_type": "code",
   "execution_count": 32,
   "metadata": {},
   "outputs": [],
   "source": [
    "prophet_data = data_train[['city', 'week_start_date', 'total_cases']]\n",
    "prophet_data_sj = prophet_data[prophet_data['city'] == 'sj'].drop('city', axis=1)\n",
    "prophet_data_iq = prophet_data[prophet_data['city'] == 'iq'].drop('city', axis=1)\n",
    "test_sj = data_test[data_test['city'] == 'sj']['week_start_date']\n",
    "test_iq = data_test[data_test['city'] == 'iq']['week_start_date']\n",
    "prophet_data_sj.columns, prophet_data_iq.columns = ['ds', 'y'], ['ds', 'y']"
   ]
  },
  {
   "cell_type": "code",
   "execution_count": 33,
   "metadata": {},
   "outputs": [],
   "source": [
    "# function to create and plot forecast \n",
    "def create_forecast(train_data, test_data, flex, seas):\n",
    "    prophet = Prophet(changepoint_prior_scale=flex,yearly_seasonality=seas) \n",
    "    prophet.fit(train_data)\n",
    "    future_frame = prophet.make_future_dataframe(periods=len(test_data), freq='W')  \n",
    "    forecast = prophet.predict(future_frame)    \n",
    "    prophet.plot(forecast)    \n",
    "    forecast = forecast[['ds', 'yhat']].yhat.apply(lambda x : int(x))\n",
    "    return forecast[len(train_data):]"
   ]
  },
  {
   "cell_type": "code",
   "execution_count": 34,
   "metadata": {},
   "outputs": [
    {
     "name": "stderr",
     "output_type": "stream",
     "text": [
      "INFO:fbprophet:Disabling weekly seasonality. Run prophet with weekly_seasonality=True to override this.\n",
      "INFO:fbprophet:Disabling daily seasonality. Run prophet with daily_seasonality=True to override this.\n",
      "INFO:fbprophet:Disabling weekly seasonality. Run prophet with weekly_seasonality=True to override this.\n",
      "INFO:fbprophet:Disabling daily seasonality. Run prophet with daily_seasonality=True to override this.\n"
     ]
    },
    {
     "data": {
      "image/png": "[encoded data removed]",
      "text/plain": [
       "<Figure size 720x432 with 1 Axes>"
      ]
     },
     "metadata": {},
     "output_type": "display_data"
    },
    {
     "data": {
      "image/png": "[encoded data removed]",
      "text/plain": [
       "<Figure size 720x432 with 1 Axes>"
      ]
     },
     "metadata": {},
     "output_type": "display_data"
    }
   ],
   "source": [
    "forecast_sj = create_forecast(prophet_data_sj, test_sj, 0.05, 10)\n",
    "forecast_iq = create_forecast(prophet_data_iq, test_iq, 0.05, 5)"
   ]
  },
  {
   "cell_type": "markdown",
   "metadata": {},
   "source": [
    "Create a file for Submission"
   ]
  },
  {
   "cell_type": "code",
   "execution_count": 35,
   "metadata": {},
   "outputs": [],
   "source": [
    "test_index = data_test[['city', 'year', 'weekofyear']]\n",
    "output = pd.concat([forecast_sj, forecast_iq]).reset_index().drop(['index'], axis=1)\n",
    "output.columns = ['total_cases']\n",
    "ProphetPredict=pd.concat([test_index, output], axis=1).set_index(['city'])\n",
    "ProphetPredict.to_csv('ProphetPredict.csv')"
   ]
  },
  {
   "cell_type": "markdown",
   "metadata": {},
   "source": [
    "# Prediction with LinearRegression  \n"
   ]
  },
  {
   "cell_type": "code",
   "execution_count": 36,
   "metadata": {},
   "outputs": [],
   "source": [
    "from sklearn.preprocessing import PolynomialFeatures\n",
    "from sklearn.preprocessing import StandardScaler\n",
    "from sklearn.linear_model  import LinearRegression \n",
    "from sklearn.metrics import mean_absolute_error\n",
    "from sklearn.model_selection import train_test_split"
   ]
  },
  {
   "cell_type": "code",
   "execution_count": 37,
   "metadata": {},
   "outputs": [],
   "source": [
    "indep_var=['weekofyear', 'reanalysis_air_temp_k','reanalysis_avg_temp_k','reanalysis_dew_point_temp_k',\n",
    "       'reanalysis_max_air_temp_k', 'reanalysis_min_air_temp_k','reanalysis_precip_amt_kg_per_m2',\n",
    "       'reanalysis_relative_humidity_percent', 'reanalysis_sat_precip_amt_mm', 'reanalysis_tdtr_k',\n",
    "       'station_avg_temp_k', 'station_diur_temp_rng_k', 'station_max_temp_k',\n",
    "       'station_min_temp_k', 'station_precip_mm']\n",
    "x_input = data_train[indep_var]\n",
    "#y_input = labels[\"total_cases\"]    #'precipitation_amt_mm','reanalysis_specific_humidity_g_per_kg'\n",
    "y_input = train_dummies.loc[:,['total_cases']]"
   ]
  },
  {
   "cell_type": "code",
   "execution_count": 38,
   "metadata": {},
   "outputs": [],
   "source": [
    "x = np.asanyarray(x_input)\n",
    "y = np.asanyarray(y_input)\n",
    "\n",
    "Scale=StandardScaler()\n",
    "Scale.fit(x)\n",
    "x_scale=Scale.transform(x)\n",
    "pr=PolynomialFeatures(degree =2,include_bias=False)\n",
    "x_poly=pr.fit_transform(x_scale)"
   ]
  },
  {
   "cell_type": "code",
   "execution_count": 39,
   "metadata": {},
   "outputs": [
    {
     "name": "stdout",
     "output_type": "stream",
     "text": [
      "Mean absolute error : 22.20\n"
     ]
    }
   ],
   "source": [
    "# split the data to train and test sets\n",
    "x_train, x_test, y_train, y_test = train_test_split(x_poly, y, test_size = 0.2, random_state = 33)\n",
    "\n",
    "regr = LinearRegression()\n",
    "regr.fit(x_train, y_train)\n",
    "\n",
    "y_hat= regr.predict(x_test)\n",
    "ann_err_regr = mean_absolute_error(y_test, y_hat)\n",
    "print('Mean absolute error : %.2f' % ann_err_regr)"
   ]
  },
  {
   "cell_type": "markdown",
   "metadata": {},
   "source": [
    "Create a file for Submission"
   ]
  },
  {
   "cell_type": "code",
   "execution_count": 40,
   "metadata": {},
   "outputs": [],
   "source": [
    "x_input_final = data_test_final[indep_var]\n",
    "x_final = np.asanyarray(x_input_final)\n",
    "x_scale_final=Scale.transform(x_final)\n",
    "x_poly_final=pr.fit_transform(x_scale_final)\n",
    "\n",
    "\n",
    "test_index = data_test[['city', 'year', 'weekofyear']]\n",
    "output = pd.DataFrame(regr.predict(x_poly_final))\n",
    "output.columns = ['total_cases']\n",
    "LR=pd.concat([test_index, output], axis=1).set_index(['city'])\n",
    "LR['total_cases']=LR['total_cases'].astype(int) \n",
    "LR.to_csv('LinearRegression.csv')"
   ]
  },
  {
   "cell_type": "markdown",
   "metadata": {},
   "source": [
    "# Prediction with Neural Network"
   ]
  },
  {
   "cell_type": "code",
   "execution_count": 41,
   "metadata": {},
   "outputs": [],
   "source": [
    "#!pip install tensorflow==1.4"
   ]
  },
  {
   "cell_type": "code",
   "execution_count": 42,
   "metadata": {},
   "outputs": [
    {
     "name": "stderr",
     "output_type": "stream",
     "text": [
      "Using TensorFlow backend.\n"
     ]
    }
   ],
   "source": [
    "import keras as keras\n",
    "from keras.models import Sequential\n",
    "from keras.layers import Dense\n",
    "from keras.wrappers.scikit_learn import KerasRegressor\n",
    "from sklearn.model_selection import cross_val_score\n",
    "from sklearn.preprocessing import MinMaxScaler\n",
    "import datetime"
   ]
  },
  {
   "cell_type": "code",
   "execution_count": 43,
   "metadata": {},
   "outputs": [],
   "source": [
    "def scale_X_set(train_dummies):\n",
    "    X = train_dummies.drop(columns=['year', 'precipitation_amt_mm','reanalysis_specific_humidity_g_per_kg'])\n",
    "    # stores droped columns from XandT_sj, XandT_iq\n",
    "    X_rest = pd.DataFrame(X[['weekofyear', 'monthofyear','city_iq', 'city_sj', 'ndvi_ne', 'ndvi_nw', 'ndvi_se', 'ndvi_sw']])\n",
    "    # scaling training set\n",
    "    X[X.columns] = MinMaxScaler().fit_transform(X)\n",
    "    X_scale = pd.concat([X_rest, X], axis=1)\n",
    "    # drop to normalize\n",
    "    X.drop(['weekofyear', 'monthofyear','city_iq', 'city_sj', 'ndvi_ne', 'ndvi_nw', 'ndvi_se', 'ndvi_sw'], axis=1, inplace=True)\n",
    "    return X_scale"
   ]
  },
  {
   "cell_type": "code",
   "execution_count": 44,
   "metadata": {},
   "outputs": [
    {
     "name": "stderr",
     "output_type": "stream",
     "text": [
      "/home/jupyterlab/conda/envs/python/lib/python3.6/site-packages/sklearn/preprocessing/data.py:323: DataConversionWarning:\n",
      "\n",
      "Data with input dtype uint8, int64, float64 were all converted to float64 by MinMaxScaler.\n",
      "\n"
     ]
    },
    {
     "data": {
      "text/html": [
       "<div>\n",
       "<style scoped>\n",
       "    .dataframe tbody tr th:only-of-type {\n",
       "        vertical-align: middle;\n",
       "    }\n",
       "\n",
       "    .dataframe tbody tr th {\n",
       "        vertical-align: top;\n",
       "    }\n",
       "\n",
       "    .dataframe thead th {\n",
       "        text-align: right;\n",
       "    }\n",
       "</style>\n",
       "<table border=\"1\" class=\"dataframe\">\n",
       "  <thead>\n",
       "    <tr style=\"text-align: right;\">\n",
       "      <th></th>\n",
       "      <th>weekofyear</th>\n",
       "      <th>monthofyear</th>\n",
       "      <th>city_iq</th>\n",
       "      <th>city_sj</th>\n",
       "      <th>ndvi_ne</th>\n",
       "      <th>ndvi_nw</th>\n",
       "      <th>ndvi_se</th>\n",
       "      <th>ndvi_sw</th>\n",
       "      <th>weekofyear</th>\n",
       "      <th>ndvi_ne</th>\n",
       "      <th>...</th>\n",
       "      <th>reanalysis_sat_precip_amt_mm</th>\n",
       "      <th>reanalysis_tdtr_k</th>\n",
       "      <th>station_avg_temp_k</th>\n",
       "      <th>station_diur_temp_rng_k</th>\n",
       "      <th>station_max_temp_k</th>\n",
       "      <th>station_min_temp_k</th>\n",
       "      <th>station_precip_mm</th>\n",
       "      <th>monthofyear</th>\n",
       "      <th>city_iq</th>\n",
       "      <th>city_sj</th>\n",
       "    </tr>\n",
       "  </thead>\n",
       "  <tbody>\n",
       "    <tr>\n",
       "      <th>0</th>\n",
       "      <td>18</td>\n",
       "      <td>4</td>\n",
       "      <td>0</td>\n",
       "      <td>1</td>\n",
       "      <td>0.12</td>\n",
       "      <td>0.10</td>\n",
       "      <td>0.20</td>\n",
       "      <td>0.18</td>\n",
       "      <td>0.33</td>\n",
       "      <td>0.58</td>\n",
       "      <td>...</td>\n",
       "      <td>0.03</td>\n",
       "      <td>0.09</td>\n",
       "      <td>0.43</td>\n",
       "      <td>0.21</td>\n",
       "      <td>0.17</td>\n",
       "      <td>0.49</td>\n",
       "      <td>2.94e-02</td>\n",
       "      <td>0.27</td>\n",
       "      <td>0.0</td>\n",
       "      <td>1.0</td>\n",
       "    </tr>\n",
       "    <tr>\n",
       "      <th>1</th>\n",
       "      <td>19</td>\n",
       "      <td>5</td>\n",
       "      <td>0</td>\n",
       "      <td>1</td>\n",
       "      <td>0.17</td>\n",
       "      <td>0.14</td>\n",
       "      <td>0.16</td>\n",
       "      <td>0.16</td>\n",
       "      <td>0.35</td>\n",
       "      <td>0.63</td>\n",
       "      <td>...</td>\n",
       "      <td>0.06</td>\n",
       "      <td>0.07</td>\n",
       "      <td>0.57</td>\n",
       "      <td>0.16</td>\n",
       "      <td>0.32</td>\n",
       "      <td>0.69</td>\n",
       "      <td>1.58e-02</td>\n",
       "      <td>0.36</td>\n",
       "      <td>0.0</td>\n",
       "      <td>1.0</td>\n",
       "    </tr>\n",
       "    <tr>\n",
       "      <th>2</th>\n",
       "      <td>20</td>\n",
       "      <td>5</td>\n",
       "      <td>0</td>\n",
       "      <td>1</td>\n",
       "      <td>0.03</td>\n",
       "      <td>0.17</td>\n",
       "      <td>0.16</td>\n",
       "      <td>0.17</td>\n",
       "      <td>0.37</td>\n",
       "      <td>0.48</td>\n",
       "      <td>...</td>\n",
       "      <td>0.09</td>\n",
       "      <td>0.07</td>\n",
       "      <td>0.57</td>\n",
       "      <td>0.17</td>\n",
       "      <td>0.35</td>\n",
       "      <td>0.74</td>\n",
       "      <td>7.62e-02</td>\n",
       "      <td>0.36</td>\n",
       "      <td>0.0</td>\n",
       "      <td>1.0</td>\n",
       "    </tr>\n",
       "    <tr>\n",
       "      <th>3</th>\n",
       "      <td>21</td>\n",
       "      <td>5</td>\n",
       "      <td>0</td>\n",
       "      <td>1</td>\n",
       "      <td>0.13</td>\n",
       "      <td>0.25</td>\n",
       "      <td>0.23</td>\n",
       "      <td>0.24</td>\n",
       "      <td>0.38</td>\n",
       "      <td>0.58</td>\n",
       "      <td>...</td>\n",
       "      <td>0.04</td>\n",
       "      <td>0.08</td>\n",
       "      <td>0.65</td>\n",
       "      <td>0.20</td>\n",
       "      <td>0.43</td>\n",
       "      <td>0.79</td>\n",
       "      <td>7.36e-03</td>\n",
       "      <td>0.36</td>\n",
       "      <td>0.0</td>\n",
       "      <td>1.0</td>\n",
       "    </tr>\n",
       "    <tr>\n",
       "      <th>4</th>\n",
       "      <td>22</td>\n",
       "      <td>5</td>\n",
       "      <td>0</td>\n",
       "      <td>1</td>\n",
       "      <td>0.20</td>\n",
       "      <td>0.26</td>\n",
       "      <td>0.25</td>\n",
       "      <td>0.25</td>\n",
       "      <td>0.40</td>\n",
       "      <td>0.66</td>\n",
       "      <td>...</td>\n",
       "      <td>0.02</td>\n",
       "      <td>0.12</td>\n",
       "      <td>0.80</td>\n",
       "      <td>0.43</td>\n",
       "      <td>0.54</td>\n",
       "      <td>0.84</td>\n",
       "      <td>1.07e-02</td>\n",
       "      <td>0.36</td>\n",
       "      <td>0.0</td>\n",
       "      <td>1.0</td>\n",
       "    </tr>\n",
       "  </tbody>\n",
       "</table>\n",
       "<p>5 rows × 30 columns</p>\n",
       "</div>"
      ],
      "text/plain": [
       "   weekofyear  monthofyear  city_iq  city_sj  ndvi_ne  ndvi_nw  ndvi_se  \\\n",
       "0          18            4        0        1     0.12     0.10     0.20   \n",
       "1          19            5        0        1     0.17     0.14     0.16   \n",
       "2          20            5        0        1     0.03     0.17     0.16   \n",
       "3          21            5        0        1     0.13     0.25     0.23   \n",
       "4          22            5        0        1     0.20     0.26     0.25   \n",
       "\n",
       "   ndvi_sw  weekofyear  ndvi_ne  ...  reanalysis_sat_precip_amt_mm  \\\n",
       "0     0.18        0.33     0.58  ...                          0.03   \n",
       "1     0.16        0.35     0.63  ...                          0.06   \n",
       "2     0.17        0.37     0.48  ...                          0.09   \n",
       "3     0.24        0.38     0.58  ...                          0.04   \n",
       "4     0.25        0.40     0.66  ...                          0.02   \n",
       "\n",
       "   reanalysis_tdtr_k  station_avg_temp_k  station_diur_temp_rng_k  \\\n",
       "0               0.09                0.43                     0.21   \n",
       "1               0.07                0.57                     0.16   \n",
       "2               0.07                0.57                     0.17   \n",
       "3               0.08                0.65                     0.20   \n",
       "4               0.12                0.80                     0.43   \n",
       "\n",
       "   station_max_temp_k  station_min_temp_k  station_precip_mm  monthofyear  \\\n",
       "0                0.17                0.49           2.94e-02         0.27   \n",
       "1                0.32                0.69           1.58e-02         0.36   \n",
       "2                0.35                0.74           7.62e-02         0.36   \n",
       "3                0.43                0.79           7.36e-03         0.36   \n",
       "4                0.54                0.84           1.07e-02         0.36   \n",
       "\n",
       "   city_iq  city_sj  \n",
       "0      0.0      1.0  \n",
       "1      0.0      1.0  \n",
       "2      0.0      1.0  \n",
       "3      0.0      1.0  \n",
       "4      0.0      1.0  \n",
       "\n",
       "[5 rows x 30 columns]"
      ]
     },
     "execution_count": 44,
     "metadata": {},
     "output_type": "execute_result"
    }
   ],
   "source": [
    "# create y data frame with results column\n",
    "y = train_dummies.loc[:,['total_cases']]\n",
    "X_train_dummies=train_dummies.drop(columns=['total_cases'])\n",
    "X_scale=scale_X_set(X_train_dummies)\n",
    "X_scale.head()"
   ]
  },
  {
   "cell_type": "code",
   "execution_count": 45,
   "metadata": {},
   "outputs": [
    {
     "data": {
      "text/html": [
       "<div>\n",
       "<style scoped>\n",
       "    .dataframe tbody tr th:only-of-type {\n",
       "        vertical-align: middle;\n",
       "    }\n",
       "\n",
       "    .dataframe tbody tr th {\n",
       "        vertical-align: top;\n",
       "    }\n",
       "\n",
       "    .dataframe thead th {\n",
       "        text-align: right;\n",
       "    }\n",
       "</style>\n",
       "<table border=\"1\" class=\"dataframe\">\n",
       "  <thead>\n",
       "    <tr style=\"text-align: right;\">\n",
       "      <th></th>\n",
       "      <th>weekofyear</th>\n",
       "      <th>monthofyear</th>\n",
       "      <th>city_iq</th>\n",
       "      <th>city_sj</th>\n",
       "      <th>ndvi_ne</th>\n",
       "      <th>ndvi_nw</th>\n",
       "      <th>ndvi_se</th>\n",
       "      <th>ndvi_sw</th>\n",
       "      <th>weekofyear</th>\n",
       "      <th>ndvi_ne</th>\n",
       "      <th>...</th>\n",
       "      <th>reanalysis_sat_precip_amt_mm</th>\n",
       "      <th>reanalysis_tdtr_k</th>\n",
       "      <th>station_avg_temp_k</th>\n",
       "      <th>station_diur_temp_rng_k</th>\n",
       "      <th>station_max_temp_k</th>\n",
       "      <th>station_min_temp_k</th>\n",
       "      <th>station_precip_mm</th>\n",
       "      <th>monthofyear</th>\n",
       "      <th>city_iq</th>\n",
       "      <th>city_sj</th>\n",
       "    </tr>\n",
       "  </thead>\n",
       "  <tbody>\n",
       "    <tr>\n",
       "      <th>0</th>\n",
       "      <td>18</td>\n",
       "      <td>4</td>\n",
       "      <td>0</td>\n",
       "      <td>1</td>\n",
       "      <td>0.12</td>\n",
       "      <td>0.10</td>\n",
       "      <td>0.20</td>\n",
       "      <td>0.18</td>\n",
       "      <td>0.33</td>\n",
       "      <td>0.58</td>\n",
       "      <td>...</td>\n",
       "      <td>0.03</td>\n",
       "      <td>0.09</td>\n",
       "      <td>0.43</td>\n",
       "      <td>0.21</td>\n",
       "      <td>0.17</td>\n",
       "      <td>0.49</td>\n",
       "      <td>2.94e-02</td>\n",
       "      <td>0.27</td>\n",
       "      <td>0.0</td>\n",
       "      <td>1.0</td>\n",
       "    </tr>\n",
       "    <tr>\n",
       "      <th>1</th>\n",
       "      <td>19</td>\n",
       "      <td>5</td>\n",
       "      <td>0</td>\n",
       "      <td>1</td>\n",
       "      <td>0.17</td>\n",
       "      <td>0.14</td>\n",
       "      <td>0.16</td>\n",
       "      <td>0.16</td>\n",
       "      <td>0.35</td>\n",
       "      <td>0.63</td>\n",
       "      <td>...</td>\n",
       "      <td>0.06</td>\n",
       "      <td>0.07</td>\n",
       "      <td>0.57</td>\n",
       "      <td>0.16</td>\n",
       "      <td>0.32</td>\n",
       "      <td>0.69</td>\n",
       "      <td>1.58e-02</td>\n",
       "      <td>0.36</td>\n",
       "      <td>0.0</td>\n",
       "      <td>1.0</td>\n",
       "    </tr>\n",
       "    <tr>\n",
       "      <th>2</th>\n",
       "      <td>20</td>\n",
       "      <td>5</td>\n",
       "      <td>0</td>\n",
       "      <td>1</td>\n",
       "      <td>0.03</td>\n",
       "      <td>0.17</td>\n",
       "      <td>0.16</td>\n",
       "      <td>0.17</td>\n",
       "      <td>0.37</td>\n",
       "      <td>0.48</td>\n",
       "      <td>...</td>\n",
       "      <td>0.09</td>\n",
       "      <td>0.07</td>\n",
       "      <td>0.57</td>\n",
       "      <td>0.17</td>\n",
       "      <td>0.35</td>\n",
       "      <td>0.74</td>\n",
       "      <td>7.62e-02</td>\n",
       "      <td>0.36</td>\n",
       "      <td>0.0</td>\n",
       "      <td>1.0</td>\n",
       "    </tr>\n",
       "    <tr>\n",
       "      <th>3</th>\n",
       "      <td>21</td>\n",
       "      <td>5</td>\n",
       "      <td>0</td>\n",
       "      <td>1</td>\n",
       "      <td>0.13</td>\n",
       "      <td>0.25</td>\n",
       "      <td>0.23</td>\n",
       "      <td>0.24</td>\n",
       "      <td>0.38</td>\n",
       "      <td>0.58</td>\n",
       "      <td>...</td>\n",
       "      <td>0.04</td>\n",
       "      <td>0.08</td>\n",
       "      <td>0.65</td>\n",
       "      <td>0.20</td>\n",
       "      <td>0.43</td>\n",
       "      <td>0.79</td>\n",
       "      <td>7.36e-03</td>\n",
       "      <td>0.36</td>\n",
       "      <td>0.0</td>\n",
       "      <td>1.0</td>\n",
       "    </tr>\n",
       "    <tr>\n",
       "      <th>4</th>\n",
       "      <td>22</td>\n",
       "      <td>5</td>\n",
       "      <td>0</td>\n",
       "      <td>1</td>\n",
       "      <td>0.20</td>\n",
       "      <td>0.26</td>\n",
       "      <td>0.25</td>\n",
       "      <td>0.25</td>\n",
       "      <td>0.40</td>\n",
       "      <td>0.66</td>\n",
       "      <td>...</td>\n",
       "      <td>0.02</td>\n",
       "      <td>0.12</td>\n",
       "      <td>0.80</td>\n",
       "      <td>0.43</td>\n",
       "      <td>0.54</td>\n",
       "      <td>0.84</td>\n",
       "      <td>1.07e-02</td>\n",
       "      <td>0.36</td>\n",
       "      <td>0.0</td>\n",
       "      <td>1.0</td>\n",
       "    </tr>\n",
       "    <tr>\n",
       "      <th>...</th>\n",
       "      <td>...</td>\n",
       "      <td>...</td>\n",
       "      <td>...</td>\n",
       "      <td>...</td>\n",
       "      <td>...</td>\n",
       "      <td>...</td>\n",
       "      <td>...</td>\n",
       "      <td>...</td>\n",
       "      <td>...</td>\n",
       "      <td>...</td>\n",
       "      <td>...</td>\n",
       "      <td>...</td>\n",
       "      <td>...</td>\n",
       "      <td>...</td>\n",
       "      <td>...</td>\n",
       "      <td>...</td>\n",
       "      <td>...</td>\n",
       "      <td>...</td>\n",
       "      <td>...</td>\n",
       "      <td>...</td>\n",
       "      <td>...</td>\n",
       "    </tr>\n",
       "    <tr>\n",
       "      <th>1451</th>\n",
       "      <td>21</td>\n",
       "      <td>5</td>\n",
       "      <td>1</td>\n",
       "      <td>0</td>\n",
       "      <td>0.34</td>\n",
       "      <td>0.32</td>\n",
       "      <td>0.26</td>\n",
       "      <td>0.29</td>\n",
       "      <td>0.38</td>\n",
       "      <td>0.82</td>\n",
       "      <td>...</td>\n",
       "      <td>0.14</td>\n",
       "      <td>0.60</td>\n",
       "      <td>0.77</td>\n",
       "      <td>0.66</td>\n",
       "      <td>0.56</td>\n",
       "      <td>0.71</td>\n",
       "      <td>4.97e-02</td>\n",
       "      <td>0.36</td>\n",
       "      <td>1.0</td>\n",
       "      <td>0.0</td>\n",
       "    </tr>\n",
       "    <tr>\n",
       "      <th>1452</th>\n",
       "      <td>22</td>\n",
       "      <td>6</td>\n",
       "      <td>1</td>\n",
       "      <td>0</td>\n",
       "      <td>0.16</td>\n",
       "      <td>0.16</td>\n",
       "      <td>0.14</td>\n",
       "      <td>0.23</td>\n",
       "      <td>0.40</td>\n",
       "      <td>0.62</td>\n",
       "      <td>...</td>\n",
       "      <td>0.22</td>\n",
       "      <td>0.43</td>\n",
       "      <td>0.64</td>\n",
       "      <td>0.53</td>\n",
       "      <td>0.52</td>\n",
       "      <td>0.64</td>\n",
       "      <td>6.74e-02</td>\n",
       "      <td>0.45</td>\n",
       "      <td>1.0</td>\n",
       "      <td>0.0</td>\n",
       "    </tr>\n",
       "    <tr>\n",
       "      <th>1453</th>\n",
       "      <td>23</td>\n",
       "      <td>6</td>\n",
       "      <td>1</td>\n",
       "      <td>0</td>\n",
       "      <td>0.25</td>\n",
       "      <td>0.15</td>\n",
       "      <td>0.25</td>\n",
       "      <td>0.23</td>\n",
       "      <td>0.42</td>\n",
       "      <td>0.71</td>\n",
       "      <td>...</td>\n",
       "      <td>0.15</td>\n",
       "      <td>0.44</td>\n",
       "      <td>0.32</td>\n",
       "      <td>0.21</td>\n",
       "      <td>0.35</td>\n",
       "      <td>0.41</td>\n",
       "      <td>1.36e-02</td>\n",
       "      <td>0.45</td>\n",
       "      <td>1.0</td>\n",
       "      <td>0.0</td>\n",
       "    </tr>\n",
       "    <tr>\n",
       "      <th>1454</th>\n",
       "      <td>24</td>\n",
       "      <td>6</td>\n",
       "      <td>1</td>\n",
       "      <td>0</td>\n",
       "      <td>0.33</td>\n",
       "      <td>0.25</td>\n",
       "      <td>0.28</td>\n",
       "      <td>0.33</td>\n",
       "      <td>0.44</td>\n",
       "      <td>0.81</td>\n",
       "      <td>...</td>\n",
       "      <td>0.15</td>\n",
       "      <td>0.46</td>\n",
       "      <td>0.43</td>\n",
       "      <td>0.37</td>\n",
       "      <td>0.29</td>\n",
       "      <td>0.58</td>\n",
       "      <td>2.94e-02</td>\n",
       "      <td>0.45</td>\n",
       "      <td>1.0</td>\n",
       "      <td>0.0</td>\n",
       "    </tr>\n",
       "    <tr>\n",
       "      <th>1455</th>\n",
       "      <td>25</td>\n",
       "      <td>6</td>\n",
       "      <td>1</td>\n",
       "      <td>0</td>\n",
       "      <td>0.30</td>\n",
       "      <td>0.23</td>\n",
       "      <td>0.27</td>\n",
       "      <td>0.32</td>\n",
       "      <td>0.46</td>\n",
       "      <td>0.77</td>\n",
       "      <td>...</td>\n",
       "      <td>0.16</td>\n",
       "      <td>0.68</td>\n",
       "      <td>0.65</td>\n",
       "      <td>0.48</td>\n",
       "      <td>0.45</td>\n",
       "      <td>0.69</td>\n",
       "      <td>3.75e-02</td>\n",
       "      <td>0.45</td>\n",
       "      <td>1.0</td>\n",
       "      <td>0.0</td>\n",
       "    </tr>\n",
       "  </tbody>\n",
       "</table>\n",
       "<p>1448 rows × 30 columns</p>\n",
       "</div>"
      ],
      "text/plain": [
       "      weekofyear  monthofyear  city_iq  city_sj  ndvi_ne  ndvi_nw  ndvi_se  \\\n",
       "0             18            4        0        1     0.12     0.10     0.20   \n",
       "1             19            5        0        1     0.17     0.14     0.16   \n",
       "2             20            5        0        1     0.03     0.17     0.16   \n",
       "3             21            5        0        1     0.13     0.25     0.23   \n",
       "4             22            5        0        1     0.20     0.26     0.25   \n",
       "...          ...          ...      ...      ...      ...      ...      ...   \n",
       "1451          21            5        1        0     0.34     0.32     0.26   \n",
       "1452          22            6        1        0     0.16     0.16     0.14   \n",
       "1453          23            6        1        0     0.25     0.15     0.25   \n",
       "1454          24            6        1        0     0.33     0.25     0.28   \n",
       "1455          25            6        1        0     0.30     0.23     0.27   \n",
       "\n",
       "      ndvi_sw  weekofyear  ndvi_ne  ...  reanalysis_sat_precip_amt_mm  \\\n",
       "0        0.18        0.33     0.58  ...                          0.03   \n",
       "1        0.16        0.35     0.63  ...                          0.06   \n",
       "2        0.17        0.37     0.48  ...                          0.09   \n",
       "3        0.24        0.38     0.58  ...                          0.04   \n",
       "4        0.25        0.40     0.66  ...                          0.02   \n",
       "...       ...         ...      ...  ...                           ...   \n",
       "1451     0.29        0.38     0.82  ...                          0.14   \n",
       "1452     0.23        0.40     0.62  ...                          0.22   \n",
       "1453     0.23        0.42     0.71  ...                          0.15   \n",
       "1454     0.33        0.44     0.81  ...                          0.15   \n",
       "1455     0.32        0.46     0.77  ...                          0.16   \n",
       "\n",
       "      reanalysis_tdtr_k  station_avg_temp_k  station_diur_temp_rng_k  \\\n",
       "0                  0.09                0.43                     0.21   \n",
       "1                  0.07                0.57                     0.16   \n",
       "2                  0.07                0.57                     0.17   \n",
       "3                  0.08                0.65                     0.20   \n",
       "4                  0.12                0.80                     0.43   \n",
       "...                 ...                 ...                      ...   \n",
       "1451               0.60                0.77                     0.66   \n",
       "1452               0.43                0.64                     0.53   \n",
       "1453               0.44                0.32                     0.21   \n",
       "1454               0.46                0.43                     0.37   \n",
       "1455               0.68                0.65                     0.48   \n",
       "\n",
       "      station_max_temp_k  station_min_temp_k  station_precip_mm  monthofyear  \\\n",
       "0                   0.17                0.49           2.94e-02         0.27   \n",
       "1                   0.32                0.69           1.58e-02         0.36   \n",
       "2                   0.35                0.74           7.62e-02         0.36   \n",
       "3                   0.43                0.79           7.36e-03         0.36   \n",
       "4                   0.54                0.84           1.07e-02         0.36   \n",
       "...                  ...                 ...                ...          ...   \n",
       "1451                0.56                0.71           4.97e-02         0.36   \n",
       "1452                0.52                0.64           6.74e-02         0.45   \n",
       "1453                0.35                0.41           1.36e-02         0.45   \n",
       "1454                0.29                0.58           2.94e-02         0.45   \n",
       "1455                0.45                0.69           3.75e-02         0.45   \n",
       "\n",
       "      city_iq  city_sj  \n",
       "0         0.0      1.0  \n",
       "1         0.0      1.0  \n",
       "2         0.0      1.0  \n",
       "3         0.0      1.0  \n",
       "4         0.0      1.0  \n",
       "...       ...      ...  \n",
       "1451      1.0      0.0  \n",
       "1452      1.0      0.0  \n",
       "1453      1.0      0.0  \n",
       "1454      1.0      0.0  \n",
       "1455      1.0      0.0  \n",
       "\n",
       "[1448 rows x 30 columns]"
      ]
     },
     "execution_count": 45,
     "metadata": {},
     "output_type": "execute_result"
    }
   ],
   "source": [
    "# Split the data to train and test sets\n",
    "x_train, x_test, y_train, y_test = train_test_split(X_scale, y, test_size = 0.2, random_state = 1)\n",
    "X_scale"
   ]
  },
  {
   "cell_type": "code",
   "execution_count": 46,
   "metadata": {},
   "outputs": [
    {
     "name": "stdout",
     "output_type": "stream",
     "text": [
      "_________________________________________________________________\n",
      "Layer (type)                 Output Shape              Param #   \n",
      "=================================================================\n",
      "dense_1 (Dense)              (None, 12)                372       \n",
      "_________________________________________________________________\n",
      "dense_2 (Dense)              (None, 20)                260       \n",
      "_________________________________________________________________\n",
      "dense_3 (Dense)              (None, 20)                420       \n",
      "_________________________________________________________________\n",
      "dense_4 (Dense)              (None, 20)                420       \n",
      "_________________________________________________________________\n",
      "dense_5 (Dense)              (None, 1)                 21        \n",
      "=================================================================\n",
      "Total params: 1,493\n",
      "Trainable params: 1,493\n",
      "Non-trainable params: 0\n",
      "_________________________________________________________________\n"
     ]
    }
   ],
   "source": [
    "# Specify the training configuration: Loss function -  MAE (mean absolute error),  Optimizer –Adam (stochastic gradient descent method)\n",
    "model = Sequential(layers=None, name=None)\n",
    "model.add(Dense(12, input_dim=(x_train.shape[1]), kernel_initializer='normal', activation='relu'))\n",
    "model.add(Dense(20, activation='relu'))\n",
    "model.add(Dense(20, activation='relu'))\n",
    "model.add(Dense(20, activation='relu'))\n",
    "model.add(Dense(1, activation='linear'))\n",
    "model.summary()"
   ]
  },
  {
   "cell_type": "code",
   "execution_count": 47,
   "metadata": {},
   "outputs": [
    {
     "name": "stdout",
     "output_type": "stream",
     "text": [
      "(1158, 30)\n",
      "(1158, 1)\n"
     ]
    }
   ],
   "source": [
    "model.compile(loss='mae', optimizer='adam')\n",
    "print(x_train.shape)\n",
    "print(y_train.shape)"
   ]
  },
  {
   "cell_type": "code",
   "execution_count": 48,
   "metadata": {},
   "outputs": [
    {
     "name": "stdout",
     "output_type": "stream",
     "text": [
      "Train on 926 samples, validate on 232 samples\n",
      "Epoch 1/150\n",
      "926/926 [==============================] - 1s 1ms/step - loss: 24.5057 - val_loss: 23.2954\n",
      "Epoch 2/150\n",
      "926/926 [==============================] - 0s 351us/step - loss: 22.7991 - val_loss: 21.4777\n",
      "Epoch 3/150\n",
      "926/926 [==============================] - 0s 341us/step - loss: 21.0172 - val_loss: 20.3417\n",
      "Epoch 4/150\n",
      "926/926 [==============================] - 0s 362us/step - loss: 20.3542 - val_loss: 20.3118\n",
      "Epoch 5/150\n",
      "926/926 [==============================] - 0s 348us/step - loss: 20.1985 - val_loss: 20.0604\n",
      "Epoch 6/150\n",
      "926/926 [==============================] - 0s 345us/step - loss: 20.0555 - val_loss: 19.9365\n",
      "Epoch 7/150\n",
      "926/926 [==============================] - 0s 388us/step - loss: 19.9566 - val_loss: 19.8136\n",
      "Epoch 8/150\n",
      "926/926 [==============================] - 0s 329us/step - loss: 19.8220 - val_loss: 19.6228\n",
      "Epoch 9/150\n",
      "926/926 [==============================] - 0s 346us/step - loss: 19.5451 - val_loss: 19.5775\n",
      "Epoch 10/150\n",
      "926/926 [==============================] - 0s 392us/step - loss: 19.3024 - val_loss: 19.2277\n",
      "Epoch 11/150\n",
      "926/926 [==============================] - 0s 344us/step - loss: 19.0158 - val_loss: 18.8891\n",
      "Epoch 12/150\n",
      "926/926 [==============================] - 0s 342us/step - loss: 18.6223 - val_loss: 18.7221\n",
      "Epoch 13/150\n",
      "926/926 [==============================] - 0s 345us/step - loss: 18.2390 - val_loss: 18.2719\n",
      "Epoch 14/150\n",
      "926/926 [==============================] - 0s 386us/step - loss: 17.9089 - val_loss: 18.1857\n",
      "Epoch 15/150\n",
      "926/926 [==============================] - 0s 388us/step - loss: 17.6872 - val_loss: 17.9752\n",
      "Epoch 16/150\n",
      "926/926 [==============================] - 0s 388us/step - loss: 17.5829 - val_loss: 17.8836\n",
      "Epoch 17/150\n",
      "926/926 [==============================] - 0s 387us/step - loss: 17.5389 - val_loss: 17.8380\n",
      "Epoch 18/150\n",
      "926/926 [==============================] - 0s 411us/step - loss: 17.5050 - val_loss: 17.7962\n",
      "Epoch 19/150\n",
      "926/926 [==============================] - 0s 363us/step - loss: 17.4815 - val_loss: 17.7056\n",
      "Epoch 20/150\n",
      "926/926 [==============================] - 0s 346us/step - loss: 17.4125 - val_loss: 17.8871\n",
      "Epoch 21/150\n",
      "926/926 [==============================] - 0s 387us/step - loss: 17.4548 - val_loss: 17.6458\n",
      "Epoch 22/150\n",
      "926/926 [==============================] - 0s 449us/step - loss: 17.5161 - val_loss: 17.5925\n",
      "Epoch 23/150\n",
      "926/926 [==============================] - 1s 688us/step - loss: 17.3528 - val_loss: 17.5843\n",
      "Epoch 24/150\n",
      "926/926 [==============================] - 0s 392us/step - loss: 17.2748 - val_loss: 17.5567\n",
      "Epoch 25/150\n",
      "926/926 [==============================] - 0s 410us/step - loss: 17.2368 - val_loss: 17.4844\n",
      "Epoch 26/150\n",
      "926/926 [==============================] - 0s 404us/step - loss: 17.2414 - val_loss: 17.4559\n",
      "Epoch 27/150\n",
      "926/926 [==============================] - 0s 327us/step - loss: 17.1726 - val_loss: 17.4662\n",
      "Epoch 28/150\n",
      "926/926 [==============================] - 0s 278us/step - loss: 17.1964 - val_loss: 17.2731\n",
      "Epoch 29/150\n",
      "926/926 [==============================] - 0s 431us/step - loss: 17.0675 - val_loss: 17.3892\n",
      "Epoch 30/150\n",
      "926/926 [==============================] - 0s 306us/step - loss: 17.0339 - val_loss: 17.1780\n",
      "Epoch 31/150\n",
      "926/926 [==============================] - 0s 342us/step - loss: 17.0379 - val_loss: 17.1685\n",
      "Epoch 32/150\n",
      "926/926 [==============================] - 0s 327us/step - loss: 16.9980 - val_loss: 17.3681\n",
      "Epoch 33/150\n",
      "926/926 [==============================] - 0s 342us/step - loss: 16.9222 - val_loss: 17.0131\n",
      "Epoch 34/150\n",
      "926/926 [==============================] - 0s 363us/step - loss: 16.9054 - val_loss: 17.3067\n",
      "Epoch 35/150\n",
      "926/926 [==============================] - 0s 367us/step - loss: 16.9698 - val_loss: 17.0779\n",
      "Epoch 36/150\n",
      "926/926 [==============================] - 0s 385us/step - loss: 16.9010 - val_loss: 16.9693\n",
      "Epoch 37/150\n",
      "926/926 [==============================] - 0s 350us/step - loss: 16.7893 - val_loss: 16.9618\n",
      "Epoch 38/150\n",
      "926/926 [==============================] - 0s 341us/step - loss: 16.7992 - val_loss: 16.9626\n",
      "Epoch 39/150\n",
      "926/926 [==============================] - 0s 364us/step - loss: 16.7606 - val_loss: 16.9008\n",
      "Epoch 40/150\n",
      "926/926 [==============================] - 0s 365us/step - loss: 16.7319 - val_loss: 16.8014\n",
      "Epoch 41/150\n",
      "926/926 [==============================] - 0s 371us/step - loss: 16.6923 - val_loss: 16.8010\n",
      "Epoch 42/150\n",
      "926/926 [==============================] - 0s 367us/step - loss: 16.6695 - val_loss: 16.7671\n",
      "Epoch 43/150\n",
      "926/926 [==============================] - 0s 339us/step - loss: 16.6358 - val_loss: 16.7392\n",
      "Epoch 44/150\n",
      "926/926 [==============================] - 0s 329us/step - loss: 16.6285 - val_loss: 16.7776\n",
      "Epoch 45/150\n",
      "926/926 [==============================] - 0s 345us/step - loss: 16.6142 - val_loss: 16.7240\n",
      "Epoch 46/150\n",
      "926/926 [==============================] - 0s 367us/step - loss: 16.6135 - val_loss: 16.7196\n",
      "Epoch 47/150\n",
      "926/926 [==============================] - 0s 349us/step - loss: 16.5864 - val_loss: 16.7217\n",
      "Epoch 48/150\n",
      "926/926 [==============================] - 0s 383us/step - loss: 16.5800 - val_loss: 16.7730\n",
      "Epoch 49/150\n",
      "926/926 [==============================] - 0s 431us/step - loss: 16.5376 - val_loss: 16.6294\n",
      "Epoch 50/150\n",
      "926/926 [==============================] - 0s 409us/step - loss: 16.4764 - val_loss: 16.7938\n",
      "Epoch 51/150\n",
      "926/926 [==============================] - 0s 386us/step - loss: 16.4861 - val_loss: 16.6717\n",
      "Epoch 52/150\n",
      "926/926 [==============================] - 0s 349us/step - loss: 16.4392 - val_loss: 16.6190\n",
      "Epoch 53/150\n",
      "926/926 [==============================] - 0s 405us/step - loss: 16.5057 - val_loss: 16.8510\n",
      "Epoch 54/150\n",
      "926/926 [==============================] - 0s 321us/step - loss: 16.5992 - val_loss: 16.7733\n",
      "Epoch 55/150\n",
      "926/926 [==============================] - 0s 392us/step - loss: 16.5881 - val_loss: 16.6798\n",
      "Epoch 56/150\n",
      "926/926 [==============================] - 0s 430us/step - loss: 16.4074 - val_loss: 16.5349\n",
      "Epoch 57/150\n",
      "926/926 [==============================] - 0s 361us/step - loss: 16.4103 - val_loss: 16.5501\n",
      "Epoch 58/150\n",
      "926/926 [==============================] - 0s 349us/step - loss: 16.3707 - val_loss: 16.6348\n",
      "Epoch 59/150\n",
      "926/926 [==============================] - 0s 384us/step - loss: 16.3522 - val_loss: 16.5741\n",
      "Epoch 60/150\n",
      "926/926 [==============================] - 0s 345us/step - loss: 16.3016 - val_loss: 16.5130\n",
      "Epoch 61/150\n",
      "926/926 [==============================] - 0s 365us/step - loss: 16.2876 - val_loss: 16.7175\n",
      "Epoch 62/150\n",
      "926/926 [==============================] - 0s 370us/step - loss: 16.4409 - val_loss: 16.8165\n",
      "Epoch 63/150\n",
      "926/926 [==============================] - 0s 366us/step - loss: 16.4151 - val_loss: 16.4294\n",
      "Epoch 64/150\n",
      "926/926 [==============================] - 0s 347us/step - loss: 16.4598 - val_loss: 16.6553\n",
      "Epoch 65/150\n",
      "926/926 [==============================] - 0s 344us/step - loss: 16.3144 - val_loss: 16.6721\n",
      "Epoch 66/150\n",
      "926/926 [==============================] - 0s 330us/step - loss: 16.4142 - val_loss: 16.4384\n",
      "Epoch 67/150\n",
      "926/926 [==============================] - 0s 317us/step - loss: 16.3210 - val_loss: 16.4037\n",
      "Epoch 68/150\n",
      "926/926 [==============================] - 0s 406us/step - loss: 16.2511 - val_loss: 16.5213\n",
      "Epoch 69/150\n",
      "926/926 [==============================] - 0s 347us/step - loss: 16.2308 - val_loss: 16.4306\n",
      "Epoch 70/150\n",
      "926/926 [==============================] - 0s 368us/step - loss: 16.3016 - val_loss: 16.5939\n",
      "Epoch 71/150\n",
      "926/926 [==============================] - 0s 367us/step - loss: 16.2115 - val_loss: 16.3961\n",
      "Epoch 72/150\n",
      "926/926 [==============================] - 0s 372us/step - loss: 16.2549 - val_loss: 16.3468\n",
      "Epoch 73/150\n",
      "926/926 [==============================] - 0s 347us/step - loss: 16.2120 - val_loss: 16.4412\n",
      "Epoch 74/150\n",
      "926/926 [==============================] - 0s 384us/step - loss: 16.2979 - val_loss: 16.4113\n",
      "Epoch 75/150\n",
      "926/926 [==============================] - 0s 389us/step - loss: 16.1855 - val_loss: 16.4238\n",
      "Epoch 76/150\n",
      "926/926 [==============================] - 0s 326us/step - loss: 16.1746 - val_loss: 16.4510\n",
      "Epoch 77/150\n",
      "926/926 [==============================] - 0s 304us/step - loss: 16.1847 - val_loss: 16.6085\n",
      "Epoch 78/150\n",
      "926/926 [==============================] - 0s 408us/step - loss: 16.2419 - val_loss: 16.3808\n",
      "Epoch 79/150\n",
      "926/926 [==============================] - 0s 387us/step - loss: 16.2246 - val_loss: 16.5567\n",
      "Epoch 80/150\n",
      "926/926 [==============================] - 0s 411us/step - loss: 16.2373 - val_loss: 16.4710\n",
      "Epoch 81/150\n",
      "926/926 [==============================] - 0s 366us/step - loss: 16.1370 - val_loss: 16.6998\n",
      "Epoch 82/150\n",
      "926/926 [==============================] - 0s 367us/step - loss: 16.1775 - val_loss: 16.4212\n",
      "Epoch 83/150\n",
      "926/926 [==============================] - 0s 345us/step - loss: 16.1033 - val_loss: 16.3078\n",
      "Epoch 84/150\n",
      "926/926 [==============================] - 0s 455us/step - loss: 16.0618 - val_loss: 16.5199\n",
      "Epoch 85/150\n",
      "926/926 [==============================] - 0s 347us/step - loss: 16.2979 - val_loss: 16.3340\n",
      "Epoch 86/150\n",
      "926/926 [==============================] - 0s 344us/step - loss: 16.1581 - val_loss: 16.5075\n",
      "Epoch 87/150\n",
      "926/926 [==============================] - 0s 341us/step - loss: 16.2388 - val_loss: 16.6766\n",
      "Epoch 88/150\n",
      "926/926 [==============================] - 0s 348us/step - loss: 16.1604 - val_loss: 16.3069\n",
      "Epoch 89/150\n",
      "926/926 [==============================] - 0s 302us/step - loss: 16.1267 - val_loss: 16.4582\n",
      "Epoch 90/150\n",
      "926/926 [==============================] - 0s 264us/step - loss: 15.9949 - val_loss: 16.3267\n",
      "Epoch 91/150\n",
      "926/926 [==============================] - 1s 579us/step - loss: 16.0835 - val_loss: 16.2203\n",
      "Epoch 92/150\n",
      "926/926 [==============================] - 0s 364us/step - loss: 16.1601 - val_loss: 16.3862\n",
      "Epoch 93/150\n",
      "926/926 [==============================] - 0s 344us/step - loss: 16.0311 - val_loss: 16.2616\n",
      "Epoch 94/150\n",
      "926/926 [==============================] - 0s 326us/step - loss: 16.0133 - val_loss: 16.4022\n",
      "Epoch 95/150\n",
      "926/926 [==============================] - 0s 363us/step - loss: 15.9758 - val_loss: 16.3067\n",
      "Epoch 96/150\n",
      "926/926 [==============================] - 0s 368us/step - loss: 16.0811 - val_loss: 16.4065\n",
      "Epoch 97/150\n",
      "926/926 [==============================] - 0s 363us/step - loss: 15.9641 - val_loss: 16.4662\n",
      "Epoch 98/150\n",
      "926/926 [==============================] - 0s 344us/step - loss: 16.1460 - val_loss: 16.1728\n",
      "Epoch 99/150\n",
      "926/926 [==============================] - 0s 349us/step - loss: 16.0097 - val_loss: 16.4417\n",
      "Epoch 100/150\n",
      "926/926 [==============================] - 0s 363us/step - loss: 16.0702 - val_loss: 16.1133\n",
      "Epoch 101/150\n",
      "926/926 [==============================] - 0s 367us/step - loss: 16.2204 - val_loss: 16.5185\n",
      "Epoch 102/150\n",
      "926/926 [==============================] - 0s 509us/step - loss: 15.9964 - val_loss: 16.2047\n",
      "Epoch 103/150\n",
      "926/926 [==============================] - 0s 400us/step - loss: 16.1925 - val_loss: 16.7146\n",
      "Epoch 104/150\n",
      "926/926 [==============================] - 0s 346us/step - loss: 16.0553 - val_loss: 16.2177\n",
      "Epoch 105/150\n",
      "926/926 [==============================] - 1s 540us/step - loss: 15.9510 - val_loss: 16.3247\n",
      "Epoch 106/150\n",
      "926/926 [==============================] - 0s 365us/step - loss: 15.9762 - val_loss: 16.3256\n",
      "Epoch 107/150\n",
      "926/926 [==============================] - 0s 347us/step - loss: 16.1642 - val_loss: 16.4161\n",
      "Epoch 108/150\n",
      "926/926 [==============================] - 0s 345us/step - loss: 16.1971 - val_loss: 16.5856\n",
      "Epoch 109/150\n",
      "926/926 [==============================] - 0s 325us/step - loss: 16.0545 - val_loss: 16.4098\n",
      "Epoch 110/150\n",
      "926/926 [==============================] - 0s 309us/step - loss: 16.0988 - val_loss: 16.5135\n",
      "Epoch 111/150\n",
      "926/926 [==============================] - 0s 372us/step - loss: 16.0305 - val_loss: 16.2397\n",
      "Epoch 112/150\n",
      "926/926 [==============================] - 0s 344us/step - loss: 15.9568 - val_loss: 16.3201\n",
      "Epoch 113/150\n",
      "926/926 [==============================] - 0s 384us/step - loss: 16.0357 - val_loss: 16.2850\n",
      "Epoch 114/150\n",
      "926/926 [==============================] - 0s 459us/step - loss: 15.8920 - val_loss: 16.5886\n",
      "Epoch 115/150\n",
      "926/926 [==============================] - 0s 473us/step - loss: 15.9903 - val_loss: 16.3514\n",
      "Epoch 116/150\n",
      "926/926 [==============================] - 0s 389us/step - loss: 15.9329 - val_loss: 16.2486\n",
      "Epoch 117/150\n",
      "926/926 [==============================] - 0s 326us/step - loss: 15.8992 - val_loss: 16.4511\n",
      "Epoch 118/150\n",
      "926/926 [==============================] - 0s 325us/step - loss: 15.9897 - val_loss: 16.4412\n",
      "Epoch 119/150\n",
      "926/926 [==============================] - 0s 345us/step - loss: 16.0190 - val_loss: 16.0562\n",
      "Epoch 120/150\n",
      "926/926 [==============================] - 0s 340us/step - loss: 15.9965 - val_loss: 16.4484\n",
      "Epoch 121/150\n",
      "926/926 [==============================] - 0s 322us/step - loss: 15.9262 - val_loss: 16.2557\n",
      "Epoch 122/150\n",
      "926/926 [==============================] - 0s 327us/step - loss: 16.1835 - val_loss: 16.4570\n",
      "Epoch 123/150\n",
      "926/926 [==============================] - 0s 365us/step - loss: 15.9747 - val_loss: 16.3076\n",
      "Epoch 124/150\n",
      "926/926 [==============================] - 0s 322us/step - loss: 15.8771 - val_loss: 16.3485\n",
      "Epoch 125/150\n",
      "926/926 [==============================] - 0s 328us/step - loss: 15.9761 - val_loss: 16.3523\n",
      "Epoch 126/150\n",
      "926/926 [==============================] - 0s 474us/step - loss: 15.8825 - val_loss: 16.3338\n",
      "Epoch 127/150\n",
      "926/926 [==============================] - 0s 326us/step - loss: 16.0219 - val_loss: 16.3414\n",
      "Epoch 128/150\n",
      "926/926 [==============================] - 0s 347us/step - loss: 15.9141 - val_loss: 16.3107\n",
      "Epoch 129/150\n",
      "926/926 [==============================] - 0s 343us/step - loss: 15.9874 - val_loss: 16.1883\n",
      "Epoch 130/150\n",
      "926/926 [==============================] - 0s 351us/step - loss: 15.8703 - val_loss: 16.2521\n",
      "Epoch 131/150\n",
      "926/926 [==============================] - 0s 430us/step - loss: 15.8870 - val_loss: 16.3306\n",
      "Epoch 132/150\n",
      "926/926 [==============================] - 0s 366us/step - loss: 15.8324 - val_loss: 16.1715\n",
      "Epoch 133/150\n",
      "926/926 [==============================] - 0s 366us/step - loss: 15.8717 - val_loss: 16.2453\n",
      "Epoch 134/150\n",
      "926/926 [==============================] - 0s 362us/step - loss: 15.8512 - val_loss: 16.2360\n",
      "Epoch 135/150\n",
      "926/926 [==============================] - 0s 327us/step - loss: 15.8774 - val_loss: 16.3918\n",
      "Epoch 136/150\n",
      "926/926 [==============================] - 0s 350us/step - loss: 15.8894 - val_loss: 16.1743\n",
      "Epoch 137/150\n",
      "926/926 [==============================] - 0s 340us/step - loss: 15.9153 - val_loss: 16.5707\n",
      "Epoch 138/150\n",
      "926/926 [==============================] - 0s 368us/step - loss: 15.9502 - val_loss: 16.2653\n",
      "Epoch 139/150\n",
      "926/926 [==============================] - 0s 342us/step - loss: 15.8961 - val_loss: 16.3387\n",
      "Epoch 140/150\n",
      "926/926 [==============================] - 0s 326us/step - loss: 15.8467 - val_loss: 16.3178\n",
      "Epoch 141/150\n",
      "926/926 [==============================] - 0s 427us/step - loss: 15.8967 - val_loss: 16.3855\n",
      "Epoch 142/150\n",
      "926/926 [==============================] - 0s 344us/step - loss: 16.0522 - val_loss: 16.3119\n",
      "Epoch 143/150\n",
      "926/926 [==============================] - 0s 326us/step - loss: 15.8575 - val_loss: 16.1320\n",
      "Epoch 144/150\n",
      "926/926 [==============================] - 0s 406us/step - loss: 15.9202 - val_loss: 16.3038\n",
      "Epoch 145/150\n",
      "926/926 [==============================] - 0s 355us/step - loss: 15.9102 - val_loss: 16.5229\n",
      "Epoch 146/150\n",
      "926/926 [==============================] - 0s 361us/step - loss: 15.8249 - val_loss: 16.1359\n",
      "Epoch 147/150\n",
      "926/926 [==============================] - 0s 365us/step - loss: 15.8308 - val_loss: 16.3579\n",
      "Epoch 148/150\n",
      "926/926 [==============================] - 0s 360us/step - loss: 15.7810 - val_loss: 16.3343\n",
      "Epoch 149/150\n",
      "926/926 [==============================] - 0s 366us/step - loss: 15.8202 - val_loss: 16.1336\n",
      "Epoch 150/150\n",
      "926/926 [==============================] - 0s 326us/step - loss: 15.8341 - val_loss: 16.3305\n"
     ]
    }
   ],
   "source": [
    "history = model.fit(x_train, y_train, epochs=150, batch_size=50,  verbose=1, validation_split=0.2)"
   ]
  },
  {
   "cell_type": "code",
   "execution_count": 49,
   "metadata": {},
   "outputs": [
    {
     "name": "stdout",
     "output_type": "stream",
     "text": [
      "dict_keys(['val_loss', 'loss'])\n"
     ]
    },
    {
     "data": {
      "image/png": "[encoded data removed]",
      "text/plain": [
       "<Figure size 432x288 with 1 Axes>"
      ]
     },
     "metadata": {
      "needs_background": "light"
     },
     "output_type": "display_data"
    }
   ],
   "source": [
    "print(history.history.keys())\n",
    "\n",
    "plt.plot(history.history['loss'])\n",
    "plt.plot(history.history['val_loss'])\n",
    "plt.title('model loss')\n",
    "plt.ylabel('loss')\n",
    "plt.xlabel('epoch')\n",
    "plt.legend(['train', 'validation'], loc='upper right')\n",
    "plt.show()"
   ]
  },
  {
   "cell_type": "code",
   "execution_count": 50,
   "metadata": {},
   "outputs": [
    {
     "name": "stdout",
     "output_type": "stream",
     "text": [
      "Mean absolute error : 14.26\n"
     ]
    }
   ],
   "source": [
    "yhat = round(pd.DataFrame(model.predict(x_test)), 0)\n",
    "ann_err = mean_absolute_error(yhat, y_test)\n",
    "print('Mean absolute error : %.2f' % ann_err)"
   ]
  },
  {
   "cell_type": "markdown",
   "metadata": {},
   "source": [
    "Create a file for Submission"
   ]
  },
  {
   "cell_type": "code",
   "execution_count": 51,
   "metadata": {},
   "outputs": [
    {
     "name": "stderr",
     "output_type": "stream",
     "text": [
      "/home/jupyterlab/conda/envs/python/lib/python3.6/site-packages/sklearn/preprocessing/data.py:323: DataConversionWarning:\n",
      "\n",
      "Data with input dtype uint8, int64, float64 were all converted to float64 by MinMaxScaler.\n",
      "\n"
     ]
    }
   ],
   "source": [
    "X_scale_test_final=scale_X_set(data_test_final_dummies)"
   ]
  },
  {
   "cell_type": "code",
   "execution_count": 52,
   "metadata": {},
   "outputs": [],
   "source": [
    "test_index = data_test[['city', 'year', 'weekofyear']]\n",
    "output = round(pd.DataFrame(model.predict(X_scale_test_final)), 0)\n",
    "output.columns = ['total_cases']\n",
    "NN=pd.concat([test_index, output], axis=1).set_index(['city'])\n",
    "NN['total_cases']=NN['total_cases'].astype(int) \n",
    "NN.to_csv('NeuralNetwork.csv')"
   ]
  },
  {
   "cell_type": "code",
   "execution_count": null,
   "metadata": {},
   "outputs": [],
   "source": []
  },
  {
   "cell_type": "code",
   "execution_count": null,
   "metadata": {},
   "outputs": [],
   "source": []
  },
  {
   "cell_type": "code",
   "execution_count": null,
   "metadata": {},
   "outputs": [],
   "source": []
  }
 ],
 "metadata": {
  "kernelspec": {
   "display_name": "Python",
   "language": "python",
   "name": "conda-env-python-py"
  },
  "language_info": {
   "codemirror_mode": {
    "name": "ipython",
    "version": 3
   },
   "file_extension": ".py",
   "mimetype": "text/x-python",
   "name": "python",
   "nbconvert_exporter": "python",
   "pygments_lexer": "ipython3",
   "version": "3.6.12"
  }
 },
 "nbformat": 4,
 "nbformat_minor": 4
}
